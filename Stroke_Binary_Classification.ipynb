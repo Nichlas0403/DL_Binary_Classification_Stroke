{
  "nbformat": 4,
  "nbformat_minor": 0,
  "metadata": {
    "colab": {
      "name": "Stroke Binary Classification.ipynb",
      "provenance": [],
      "collapsed_sections": [
        "xL9-OqQOQNS-",
        "zgfwgOK-RkwD",
        "4C9hkTwBS0wg",
        "zhbL7VrDTyxh",
        "BlfTCOcuUVpv",
        "SryRdBSVhRvf",
        "tg0wAs_ohOoB",
        "cY80NSsRqBEH",
        "AgEqWqaHyOD-",
        "ciPD_Q-N5pgV",
        "TXbWycKw75PR",
        "UB1Efn-0QqB3",
        "1oTWb0yOVY-C"
      ],
      "toc_visible": true,
      "mount_file_id": "1dZVhPBN9vqUUseChPSXWAcmqY1sqrDl6",
      "authorship_tag": "ABX9TyOjeQ4270dh2MJB0dMl8IvW",
      "include_colab_link": true
    },
    "kernelspec": {
      "name": "python3",
      "display_name": "Python 3"
    }
  },
  "cells": [
    {
      "cell_type": "markdown",
      "metadata": {
        "id": "view-in-github",
        "colab_type": "text"
      },
      "source": [
        "<a href=\"https://colab.research.google.com/github/Nichlas0403/DL_Binary_Classification_Stroke/blob/main/Stroke_Binary_Classification.ipynb\" target=\"_parent\"><img src=\"https://colab.research.google.com/assets/colab-badge.svg\" alt=\"Open In Colab\"/></a>"
      ]
    },
    {
      "cell_type": "markdown",
      "metadata": {
        "id": "Yz__GLG9Dka8"
      },
      "source": [
        "#Recap of the notebook\r\n",
        "\r\n",
        "**Goal**<br>\r\n",
        "The Goal of this notebook is to predict wether or not a given person, is in danger of being the victim of a stroke in the future. To achieve this I will be creating an artificial neural network. As this project is purely for studying, I will not be setting an acceptence-goal. I will however still try to create an accuracte model.\r\n",
        "\r\n",
        "**NOTE:**<br>\r\n",
        "I've just learned the technique SMOTE. The first part of the modelling-phase will be trying to apply a machine learning model on a heavily imbalanced dataset. In the second part I will apply SMOTE before training the ANN.\r\n",
        "\r\n",
        "**Dataset**<br>\r\n",
        "The data has been found on data: <br>\r\n",
        "https://www.kaggle.com/fedesoriano/stroke-prediction-dataset\r\n",
        "\r\n",
        "**Features**<br>\r\n",
        "Features in this dataset includes: <br>\r\n",
        "- id: unique identifier\r\n",
        "- gender: \"Male\", \"Female\" or \"Other\"\r\n",
        "- age: age of the patient\r\n",
        "- hypertension: 0 if the patient doesn't have hypertension, 1 if the patient has hypertension\r\n",
        "- heart_disease: 0 if the patient doesn't have any heart diseases, 1 if the patient has a heart disease\r\n",
        "- ever_married: \"No\" or \"Yes\"\r\n",
        "- work_type: \"children\", \"Govt_jov\", \"Never_worked\", \"Private\" or \"Self-employed\"\r\n",
        "- Residence_type: \"Rural\" or \"Urban\"\r\n",
        "- avg_glucose_level: average glucose level in blood\r\n",
        "- bmi: body mass index\r\n",
        "- smoking_status: \"formerly smoked\", \"never smoked\", \"smokes\" or \"Unknown\"*\r\n",
        "- stroke: 1 if the patient had a stroke or 0 if not\r\n",
        "\r\n",
        "**NOTE**: \"Unknown\" in smoking_status means that the information is unavailable for this patient"
      ]
    },
    {
      "cell_type": "markdown",
      "metadata": {
        "id": "qRkYRpTpF40M"
      },
      "source": [
        "#Preperation"
      ]
    },
    {
      "cell_type": "code",
      "metadata": {
        "id": "gqaTjSbqGOdC"
      },
      "source": [
        "#Import baseline tools\r\n",
        "import numpy as np\r\n",
        "import pandas as pd\r\n",
        "import matplotlib.pyplot as plt\r\n",
        "%matplotlib inline\r\n",
        "import sklearn\r\n",
        "import keras\r\n",
        "import tensorflow as tf"
      ],
      "execution_count": 765,
      "outputs": []
    },
    {
      "cell_type": "code",
      "metadata": {
        "colab": {
          "base_uri": "https://localhost:8080/",
          "height": 249
        },
        "id": "pOed8jCbGY2o",
        "outputId": "672cf63c-34d0-4159-ea1a-bfbc16ea7e5d"
      },
      "source": [
        "#Import data\r\n",
        "df_baseline = pd.read_csv(\"/content/drive/MyDrive/Data Science, Machine Learning/Colab Notebooks/Deep Learning Projects/Classification/Stroke Binary Classification/healthcare-dataset-stroke-data.csv\")\r\n",
        "df = df_baseline\r\n",
        "df.head()"
      ],
      "execution_count": 766,
      "outputs": [
        {
          "output_type": "execute_result",
          "data": {
            "text/html": [
              "<div>\n",
              "<style scoped>\n",
              "    .dataframe tbody tr th:only-of-type {\n",
              "        vertical-align: middle;\n",
              "    }\n",
              "\n",
              "    .dataframe tbody tr th {\n",
              "        vertical-align: top;\n",
              "    }\n",
              "\n",
              "    .dataframe thead th {\n",
              "        text-align: right;\n",
              "    }\n",
              "</style>\n",
              "<table border=\"1\" class=\"dataframe\">\n",
              "  <thead>\n",
              "    <tr style=\"text-align: right;\">\n",
              "      <th></th>\n",
              "      <th>id</th>\n",
              "      <th>gender</th>\n",
              "      <th>age</th>\n",
              "      <th>hypertension</th>\n",
              "      <th>heart_disease</th>\n",
              "      <th>ever_married</th>\n",
              "      <th>work_type</th>\n",
              "      <th>Residence_type</th>\n",
              "      <th>avg_glucose_level</th>\n",
              "      <th>bmi</th>\n",
              "      <th>smoking_status</th>\n",
              "      <th>stroke</th>\n",
              "    </tr>\n",
              "  </thead>\n",
              "  <tbody>\n",
              "    <tr>\n",
              "      <th>0</th>\n",
              "      <td>9046</td>\n",
              "      <td>Male</td>\n",
              "      <td>67.0</td>\n",
              "      <td>0</td>\n",
              "      <td>1</td>\n",
              "      <td>Yes</td>\n",
              "      <td>Private</td>\n",
              "      <td>Urban</td>\n",
              "      <td>228.69</td>\n",
              "      <td>36.6</td>\n",
              "      <td>formerly smoked</td>\n",
              "      <td>1</td>\n",
              "    </tr>\n",
              "    <tr>\n",
              "      <th>1</th>\n",
              "      <td>51676</td>\n",
              "      <td>Female</td>\n",
              "      <td>61.0</td>\n",
              "      <td>0</td>\n",
              "      <td>0</td>\n",
              "      <td>Yes</td>\n",
              "      <td>Self-employed</td>\n",
              "      <td>Rural</td>\n",
              "      <td>202.21</td>\n",
              "      <td>NaN</td>\n",
              "      <td>never smoked</td>\n",
              "      <td>1</td>\n",
              "    </tr>\n",
              "    <tr>\n",
              "      <th>2</th>\n",
              "      <td>31112</td>\n",
              "      <td>Male</td>\n",
              "      <td>80.0</td>\n",
              "      <td>0</td>\n",
              "      <td>1</td>\n",
              "      <td>Yes</td>\n",
              "      <td>Private</td>\n",
              "      <td>Rural</td>\n",
              "      <td>105.92</td>\n",
              "      <td>32.5</td>\n",
              "      <td>never smoked</td>\n",
              "      <td>1</td>\n",
              "    </tr>\n",
              "    <tr>\n",
              "      <th>3</th>\n",
              "      <td>60182</td>\n",
              "      <td>Female</td>\n",
              "      <td>49.0</td>\n",
              "      <td>0</td>\n",
              "      <td>0</td>\n",
              "      <td>Yes</td>\n",
              "      <td>Private</td>\n",
              "      <td>Urban</td>\n",
              "      <td>171.23</td>\n",
              "      <td>34.4</td>\n",
              "      <td>smokes</td>\n",
              "      <td>1</td>\n",
              "    </tr>\n",
              "    <tr>\n",
              "      <th>4</th>\n",
              "      <td>1665</td>\n",
              "      <td>Female</td>\n",
              "      <td>79.0</td>\n",
              "      <td>1</td>\n",
              "      <td>0</td>\n",
              "      <td>Yes</td>\n",
              "      <td>Self-employed</td>\n",
              "      <td>Rural</td>\n",
              "      <td>174.12</td>\n",
              "      <td>24.0</td>\n",
              "      <td>never smoked</td>\n",
              "      <td>1</td>\n",
              "    </tr>\n",
              "  </tbody>\n",
              "</table>\n",
              "</div>"
            ],
            "text/plain": [
              "      id  gender   age  ...   bmi   smoking_status stroke\n",
              "0   9046    Male  67.0  ...  36.6  formerly smoked      1\n",
              "1  51676  Female  61.0  ...   NaN     never smoked      1\n",
              "2  31112    Male  80.0  ...  32.5     never smoked      1\n",
              "3  60182  Female  49.0  ...  34.4           smokes      1\n",
              "4   1665  Female  79.0  ...  24.0     never smoked      1\n",
              "\n",
              "[5 rows x 12 columns]"
            ]
          },
          "metadata": {
            "tags": []
          },
          "execution_count": 766
        }
      ]
    },
    {
      "cell_type": "markdown",
      "metadata": {
        "id": "ylREGoj-Idi-"
      },
      "source": [
        "#DEA"
      ]
    },
    {
      "cell_type": "markdown",
      "metadata": {
        "id": "fJLxd6wDIgSo"
      },
      "source": [
        "##Baseline information"
      ]
    },
    {
      "cell_type": "code",
      "metadata": {
        "colab": {
          "base_uri": "https://localhost:8080/"
        },
        "id": "01SBC6uJGvu3",
        "outputId": "7e47898b-8dee-4d3d-fe73-0d4880b1ac10"
      },
      "source": [
        "df.info()"
      ],
      "execution_count": 767,
      "outputs": [
        {
          "output_type": "stream",
          "text": [
            "<class 'pandas.core.frame.DataFrame'>\n",
            "RangeIndex: 5110 entries, 0 to 5109\n",
            "Data columns (total 12 columns):\n",
            " #   Column             Non-Null Count  Dtype  \n",
            "---  ------             --------------  -----  \n",
            " 0   id                 5110 non-null   int64  \n",
            " 1   gender             5110 non-null   object \n",
            " 2   age                5110 non-null   float64\n",
            " 3   hypertension       5110 non-null   int64  \n",
            " 4   heart_disease      5110 non-null   int64  \n",
            " 5   ever_married       5110 non-null   object \n",
            " 6   work_type          5110 non-null   object \n",
            " 7   Residence_type     5110 non-null   object \n",
            " 8   avg_glucose_level  5110 non-null   float64\n",
            " 9   bmi                4909 non-null   float64\n",
            " 10  smoking_status     5110 non-null   object \n",
            " 11  stroke             5110 non-null   int64  \n",
            "dtypes: float64(3), int64(4), object(5)\n",
            "memory usage: 479.2+ KB\n"
          ],
          "name": "stdout"
        }
      ]
    },
    {
      "cell_type": "code",
      "metadata": {
        "colab": {
          "base_uri": "https://localhost:8080/"
        },
        "id": "dwEBQ_v6IbLV",
        "outputId": "71d68417-8993-4f30-fc7a-06e206558289"
      },
      "source": [
        "X_values = df.columns\r\n",
        "X_values"
      ],
      "execution_count": 768,
      "outputs": [
        {
          "output_type": "execute_result",
          "data": {
            "text/plain": [
              "Index(['id', 'gender', 'age', 'hypertension', 'heart_disease', 'ever_married',\n",
              "       'work_type', 'Residence_type', 'avg_glucose_level', 'bmi',\n",
              "       'smoking_status', 'stroke'],\n",
              "      dtype='object')"
            ]
          },
          "metadata": {
            "tags": []
          },
          "execution_count": 768
        }
      ]
    },
    {
      "cell_type": "code",
      "metadata": {
        "colab": {
          "base_uri": "https://localhost:8080/"
        },
        "id": "Jzf8UZmgIoyr",
        "outputId": "7f48efd1-3fa7-4470-f59a-0f8a769c2f8c"
      },
      "source": [
        "y_values = []\r\n",
        "\r\n",
        "for column in X_values:\r\n",
        "  y_values.append(df[column].count())\r\n",
        "\r\n",
        "y_values"
      ],
      "execution_count": 769,
      "outputs": [
        {
          "output_type": "execute_result",
          "data": {
            "text/plain": [
              "[5110, 5110, 5110, 5110, 5110, 5110, 5110, 5110, 5110, 4909, 5110, 5110]"
            ]
          },
          "metadata": {
            "tags": []
          },
          "execution_count": 769
        }
      ]
    },
    {
      "cell_type": "code",
      "metadata": {
        "colab": {
          "base_uri": "https://localhost:8080/",
          "height": 145
        },
        "id": "0nYYSs8mJQ-V",
        "outputId": "528ad030-07d1-4a9c-fbf0-6745d00eaa1c"
      },
      "source": [
        "fig, ax = plt.subplots(figsize=(50,5))\r\n",
        "ax.bar(X_values,y_values)"
      ],
      "execution_count": 770,
      "outputs": [
        {
          "output_type": "execute_result",
          "data": {
            "text/plain": [
              "<BarContainer object of 12 artists>"
            ]
          },
          "metadata": {
            "tags": []
          },
          "execution_count": 770
        },
        {
          "output_type": "display_data",
          "data": {
            "image/png": "[encoded data removed]",
            "text/plain": [
              "<Figure size 3600x360 with 1 Axes>"
            ]
          },
          "metadata": {
            "tags": [],
            "needs_background": "light"
          }
        }
      ]
    },
    {
      "cell_type": "markdown",
      "metadata": {
        "id": "YWwBWO4nKK59"
      },
      "source": [
        "## Value-count of gender-, age- and stroke-columns"
      ]
    },
    {
      "cell_type": "code",
      "metadata": {
        "colab": {
          "base_uri": "https://localhost:8080/"
        },
        "id": "XYa1m7jqMWSf",
        "outputId": "77d1a471-e27a-4c44-d191-577e30498ea2"
      },
      "source": [
        "df[\"gender\"].value_counts()"
      ],
      "execution_count": 771,
      "outputs": [
        {
          "output_type": "execute_result",
          "data": {
            "text/plain": [
              "Female    2994\n",
              "Male      2115\n",
              "Other        1\n",
              "Name: gender, dtype: int64"
            ]
          },
          "metadata": {
            "tags": []
          },
          "execution_count": 771
        }
      ]
    },
    {
      "cell_type": "code",
      "metadata": {
        "colab": {
          "base_uri": "https://localhost:8080/",
          "height": 358
        },
        "id": "me8SPMkgMB9Y",
        "outputId": "da44ffb8-dc0e-4dbb-c086-2b35f59e6b64"
      },
      "source": [
        "fig, (ax1,ax2,ax3) = plt.subplots(nrows=1,\r\n",
        "                                  ncols=3,\r\n",
        "                                  figsize=(20,6))\r\n",
        "\r\n",
        "ax1.set(title=\"Gender_count\",\r\n",
        "        xlabel=\"Recorded genders\",\r\n",
        "        ylabel=\"Valuecount of recorded genders\")\r\n",
        "ax1.bar(df[\"gender\"].unique(),\r\n",
        "        df[\"gender\"].value_counts())\r\n",
        "\r\n",
        "ax2.set(title=\"Age_count\",\r\n",
        "        xlabel=\"Recorded ages\",\r\n",
        "        ylabel=\"Valuecount of recorded ages\")\r\n",
        "ax2.bar(df[\"age\"].unique(),\r\n",
        "        df[\"age\"].value_counts())\r\n",
        "\r\n",
        "ax3.set(title=\"Stroke_count\",\r\n",
        "        xlabel=\"Recorded strokes\",\r\n",
        "        ylabel=\"Valuecount of recorded strokes\")\r\n",
        "ax3.bar(df[\"stroke\"].unique(),\r\n",
        "        df[\"stroke\"].value_counts());"
      ],
      "execution_count": 772,
      "outputs": [
        {
          "output_type": "display_data",
          "data": {
            "image/png": "[encoded data removed]",
            "text/plain": [
              "<Figure size 1440x432 with 3 Axes>"
            ]
          },
          "metadata": {
            "tags": [],
            "needs_background": "light"
          }
        }
      ]
    },
    {
      "cell_type": "markdown",
      "metadata": {
        "id": "Ql9xS1LkMKJc"
      },
      "source": [
        "**Thoughts about the plots above:**<br>\r\n",
        "- Gender-column is somewhat balanced <br>\r\n",
        "- Stroke-column - the majority of the samples in this columns haven't had a stroke. <br>\r\n",
        "- Age-column is somewhat balanced, but with a higher count towards the higher ages - if age and stroke correlates, it might be the reason to why the majority of the stroke samples are positive. I will check if this correlation exist now"
      ]
    },
    {
      "cell_type": "code",
      "metadata": {
        "colab": {
          "base_uri": "https://localhost:8080/",
          "height": 316
        },
        "id": "YgdahA0UOdnd",
        "outputId": "9c970972-4a07-4767-df09-230dd74c9aed"
      },
      "source": [
        "plt.rcParams.update({'font.size': 22})\r\n",
        "pd.crosstab(df[\"age\"],df[\"stroke\"]).plot(kind=\"bar\",\r\n",
        "                                         figsize=(40,10))\r\n",
        "\r\n",
        "plt.title(\"Amount of strokes compared to each recorded age\");\r\n",
        "plt.xlabel(\"agegroups\");\r\n",
        "plt.ylabel(\"Amount who had or haven't had a stroke\");"
      ],
      "execution_count": 773,
      "outputs": [
        {
          "output_type": "display_data",
          "data": {
            "image/png": "[encoded data removed]",
            "text/plain": [
              "<Figure size 2880x720 with 1 Axes>"
            ]
          },
          "metadata": {
            "tags": [],
            "needs_background": "light"
          }
        }
      ]
    },
    {
      "cell_type": "markdown",
      "metadata": {
        "id": "xL9-OqQOQNS-"
      },
      "source": [
        "##Compare heart-disease- smoking_status- and stroke-column to eachother"
      ]
    },
    {
      "cell_type": "markdown",
      "metadata": {
        "id": "zgfwgOK-RkwD"
      },
      "source": [
        "###Compare heart-disease with stroke-column"
      ]
    },
    {
      "cell_type": "code",
      "metadata": {
        "colab": {
          "base_uri": "https://localhost:8080/",
          "height": 0
        },
        "id": "W_puPvS8Rouo",
        "outputId": "91951263-f0ab-405f-83d7-4e42e88aa1d5"
      },
      "source": [
        "pd.crosstab(df[\"heart_disease\"],df[\"stroke\"]).plot(kind=\"bar\",\r\n",
        "                                         figsize=(40,10))\r\n",
        "\r\n",
        "plt.title(\"Heart-disease compared to stroke\");\r\n",
        "plt.xlabel(\"Had heart-disease or not\");\r\n",
        "plt.ylabel(\"Amount who had or haven't had a stroke\");"
      ],
      "execution_count": 774,
      "outputs": [
        {
          "output_type": "display_data",
          "data": {
            "image/png": "[encoded data removed]",
            "text/plain": [
              "<Figure size 2880x720 with 1 Axes>"
            ]
          },
          "metadata": {
            "tags": [],
            "needs_background": "light"
          }
        }
      ]
    },
    {
      "cell_type": "markdown",
      "metadata": {
        "id": "4C9hkTwBS0wg"
      },
      "source": [
        "## Compare smoking_status with stroke-column"
      ]
    },
    {
      "cell_type": "code",
      "metadata": {
        "colab": {
          "base_uri": "https://localhost:8080/",
          "height": 0
        },
        "id": "MsTLlbbsTr8B",
        "outputId": "dcf2b722-dc26-4832-f440-7225f2ac39ec"
      },
      "source": [
        "pd.crosstab(df[\"smoking_status\"],df[\"stroke\"]).plot(kind=\"bar\",\r\n",
        "                                         figsize=(40,10))\r\n",
        "\r\n",
        "plt.title(\"Smoking-status compared to stroke\");\r\n",
        "plt.xlabel(\"Smoking status\");\r\n",
        "plt.ylabel(\"Amount who had or haven't had a stroke\");"
      ],
      "execution_count": 775,
      "outputs": [
        {
          "output_type": "display_data",
          "data": {
            "image/png": "[encoded data removed]",
            "text/plain": [
              "<Figure size 2880x720 with 1 Axes>"
            ]
          },
          "metadata": {
            "tags": [],
            "needs_background": "light"
          }
        }
      ]
    },
    {
      "cell_type": "markdown",
      "metadata": {
        "id": "zhbL7VrDTyxh"
      },
      "source": [
        "###Conclusion on plots above\r\n",
        "\r\n",
        "**Heart-disease**<br>\r\n",
        "At a first glance, it looks like we simply don't have enough occurences of people having a stroke, to make an assumption to wether or not heart-disease have a strong correlation to strokes. However, if we take a closer look, we can see that if we compare the amount of strokes that happened to people who either had or didn't have a heart disease, the number of stroke-occurences on both sides are actually relatively close. Therefore, if the amount of strokes that happened to people with a heart-disease that fast can sneak up to the amount of people who didn't have a heart-disease, there must be correlation.\r\n",
        "\r\n",
        "**Smoke-status**<br>\r\n",
        "The situation here is the same as described above. The amount of people who had a stroke, and either are non-smokers, formerly-smokers or currenct-smokers are very close. Yet the amount of people who do not smoke at all are very high. Therefore, there must be a correlation.\r\n"
      ]
    },
    {
      "cell_type": "markdown",
      "metadata": {
        "id": "BlfTCOcuUVpv"
      },
      "source": [
        "##Compare Hypertension and avg_glucose_level to stroke\r\n",
        "\r\n",
        "**Hyptertension is high blood presure**"
      ]
    },
    {
      "cell_type": "markdown",
      "metadata": {
        "id": "SryRdBSVhRvf"
      },
      "source": [
        "###Hyptertension compared to stroke"
      ]
    },
    {
      "cell_type": "code",
      "metadata": {
        "colab": {
          "base_uri": "https://localhost:8080/",
          "height": 0
        },
        "id": "Tb3dUTaVUoHC",
        "outputId": "12772dd4-782d-4e9d-85b2-0cfc799357cc"
      },
      "source": [
        "pd.crosstab(df[\"hypertension\"],df[\"stroke\"]).plot(kind=\"bar\",\r\n",
        "                                         figsize=(40,10))\r\n",
        "\r\n",
        "plt.title(\"Hypertension compared to stroke\");\r\n",
        "plt.xlabel(\"Hypertension status\");\r\n",
        "plt.ylabel(\"Amount who had or haven't had a stroke\");"
      ],
      "execution_count": 776,
      "outputs": [
        {
          "output_type": "display_data",
          "data": {
            "image/png": "[encoded data removed]",
            "text/plain": [
              "<Figure size 2880x720 with 1 Axes>"
            ]
          },
          "metadata": {
            "tags": [],
            "needs_background": "light"
          }
        }
      ]
    },
    {
      "cell_type": "markdown",
      "metadata": {
        "id": "tg0wAs_ohOoB"
      },
      "source": [
        "###Avg_glucose_level compared to stroke"
      ]
    },
    {
      "cell_type": "code",
      "metadata": {
        "colab": {
          "base_uri": "https://localhost:8080/"
        },
        "id": "q6xdJnPlowKA",
        "outputId": "5a9c4a6b-2b2b-40e8-f8b5-53ad6b0b9fb2"
      },
      "source": [
        "print(df[\"avg_glucose_level\"].min())\r\n",
        "print(df[\"avg_glucose_level\"].max())"
      ],
      "execution_count": 777,
      "outputs": [
        {
          "output_type": "stream",
          "text": [
            "55.12\n",
            "271.74\n"
          ],
          "name": "stdout"
        }
      ]
    },
    {
      "cell_type": "code",
      "metadata": {
        "id": "RO_Cuu5PhYf1"
      },
      "source": [
        "glucose_threshold = {\"50-89\":  [],\r\n",
        "                     \"90-129\": [],\r\n",
        "                     \"130-169\":[],\r\n",
        "                     \"170-209\":[],\r\n",
        "                     \"210-239\":[],\r\n",
        "                     \"240-279\":[]}\r\n",
        "\r\n",
        "for sample in range(len(df)):\r\n",
        "  if df.iloc[sample][\"avg_glucose_level\"] >= 50 and df.iloc[sample][\"avg_glucose_level\"] < 90:\r\n",
        "   glucose_threshold[\"50-89\"].append(df.iloc[sample][\"stroke\"])\r\n",
        "\r\n",
        "  elif df.iloc[sample][\"avg_glucose_level\"] >= 90 and df.iloc[sample][\"avg_glucose_level\"] < 130:\r\n",
        "    glucose_threshold[\"90-129\"].append(df.iloc[sample][\"stroke\"])\r\n",
        "\r\n",
        "  elif df.iloc[sample][\"avg_glucose_level\"] >= 130 and df.iloc[sample][\"avg_glucose_level\"] < 170:\r\n",
        "    glucose_threshold[\"130-169\"].append(df.iloc[sample][\"stroke\"])\r\n",
        "\r\n",
        "  elif df.iloc[sample][\"avg_glucose_level\"] >= 170 and df.iloc[sample][\"avg_glucose_level\"] < 210:\r\n",
        "    glucose_threshold[\"170-209\"].append(df.iloc[sample][\"stroke\"])\r\n",
        "\r\n",
        "  elif df.iloc[sample][\"avg_glucose_level\"] >= 210 and df.iloc[sample][\"avg_glucose_level\"] < 239:\r\n",
        "    glucose_threshold[\"210-239\"].append(df.iloc[sample][\"stroke\"])\r\n",
        "  \r\n",
        "  elif df.iloc[sample][\"avg_glucose_level\"] >= 240 and df.iloc[sample][\"avg_glucose_level\"] < 279:\r\n",
        "    glucose_threshold[\"240-279\"].append(df.iloc[sample][\"stroke\"])"
      ],
      "execution_count": 778,
      "outputs": []
    },
    {
      "cell_type": "code",
      "metadata": {
        "id": "-ZD8aftwqp_-"
      },
      "source": [
        "glucose_threshold[\"50-89\"] = pd.Series(glucose_threshold[\"50-89\"]).value_counts()\r\n",
        "glucose_threshold[\"90-129\"] = pd.Series(glucose_threshold[\"90-129\"]).value_counts()\r\n",
        "glucose_threshold[\"130-169\"] = pd.Series(glucose_threshold[\"130-169\"]).value_counts()\r\n",
        "glucose_threshold[\"170-209\"] = pd.Series(glucose_threshold[\"170-209\"]).value_counts()\r\n",
        "glucose_threshold[\"210-239\"] = pd.Series(glucose_threshold[\"210-239\"]).value_counts()\r\n",
        "glucose_threshold[\"240-279\"] = pd.Series(glucose_threshold[\"240-279\"]).value_counts()"
      ],
      "execution_count": 779,
      "outputs": []
    },
    {
      "cell_type": "code",
      "metadata": {
        "id": "QjC57e_Is0ZI"
      },
      "source": [
        "glucose_data = {\"50-89_false\":glucose_threshold[\"50-89\"][0],\r\n",
        "                \"50-89_true\":glucose_threshold[\"50-89\"][1],\r\n",
        "                \"90-129_false\":glucose_threshold[\"90-129\"][0],\r\n",
        "                \"90-129_true\":glucose_threshold[\"90-129\"][1],\r\n",
        "                \"130-169_false\":glucose_threshold[\"130-169\"][0],\r\n",
        "                \"130-169_true\":glucose_threshold[\"130-169\"][1],\r\n",
        "                \"170-209_false\":glucose_threshold[\"170-209\"][0],\r\n",
        "                \"170-209_true\":glucose_threshold[\"170-209\"][1],\r\n",
        "                \"210-239_false\":glucose_threshold[\"210-239\"][0],\r\n",
        "                \"210-239_true\":glucose_threshold[\"210-239\"][1],\r\n",
        "                \"240-279_false\":glucose_threshold[\"240-279\"][0],\r\n",
        "                \"240-279_true\":glucose_threshold[\"240-279\"][1]}"
      ],
      "execution_count": 780,
      "outputs": []
    },
    {
      "cell_type": "code",
      "metadata": {
        "colab": {
          "base_uri": "https://localhost:8080/",
          "height": 0
        },
        "id": "xTmF2-Rrinn4",
        "outputId": "31e37948-d787-4a87-f387-7afbda0d74af"
      },
      "source": [
        "fig, ax = plt.subplots(figsize=(50,6))\r\n",
        "\r\n",
        "ax.bar(glucose_data.keys(),\r\n",
        "       glucose_data.values())\r\n",
        "\r\n",
        "ax.set(title=\"avg_glucose_level compared to stroke occurrence\",\r\n",
        "       xlabel=\"avg_glucose_level-interval and stroke bool for the interval\",\r\n",
        "       ylabel=\"Amount recorded\")"
      ],
      "execution_count": 781,
      "outputs": [
        {
          "output_type": "execute_result",
          "data": {
            "text/plain": [
              "[Text(0, 0.5, 'Amount recorded'),\n",
              " Text(0.5, 0, 'avg_glucose_level-interval and stroke bool for the interval'),\n",
              " Text(0.5, 1.0, 'avg_glucose_level compared to stroke occurrence')]"
            ]
          },
          "metadata": {
            "tags": []
          },
          "execution_count": 781
        },
        {
          "output_type": "display_data",
          "data": {
            "image/png": "[encoded data removed]",
            "text/plain": [
              "<Figure size 3600x432 with 1 Axes>"
            ]
          },
          "metadata": {
            "tags": [],
            "needs_background": "light"
          }
        }
      ]
    },
    {
      "cell_type": "markdown",
      "metadata": {
        "id": "cY80NSsRqBEH"
      },
      "source": [
        "### Conclusion on plots above\r\n",
        "\r\n",
        "Both avg_clucose_level and heart_disease clearly correlates to the occurence of heart attack (that is, if the theory mentioned at the first few plots is correct)"
      ]
    },
    {
      "cell_type": "markdown",
      "metadata": {
        "id": "5zLGTIU9xhQY"
      },
      "source": [
        "#Data preperation"
      ]
    },
    {
      "cell_type": "markdown",
      "metadata": {
        "id": "GHr4BLHC3zZW"
      },
      "source": [
        "##Data removal"
      ]
    },
    {
      "cell_type": "markdown",
      "metadata": {
        "id": "rTS9_q4O0mps"
      },
      "source": [
        "###Remove Uncesseray columns"
      ]
    },
    {
      "cell_type": "markdown",
      "metadata": {
        "id": "-x2CY6O70pgD"
      },
      "source": [
        "####ID\r\n",
        "\r\n",
        "I need to check wether or not the same ID's occurs multiple time. If they do, there might be some data patterns related to them. If each ID only occurs once I will remove them."
      ]
    },
    {
      "cell_type": "code",
      "metadata": {
        "colab": {
          "base_uri": "https://localhost:8080/"
        },
        "id": "6Wt-D6jL3Hzt",
        "outputId": "f64b0368-620d-4456-957d-ed740d761005"
      },
      "source": [
        "len(df[\"id\"].value_counts())"
      ],
      "execution_count": 782,
      "outputs": [
        {
          "output_type": "execute_result",
          "data": {
            "text/plain": [
              "5110"
            ]
          },
          "metadata": {
            "tags": []
          },
          "execution_count": 782
        }
      ]
    },
    {
      "cell_type": "code",
      "metadata": {
        "colab": {
          "base_uri": "https://localhost:8080/"
        },
        "id": "cZqaFDSD3RCw",
        "outputId": "b6d1fe33-53a6-4a5a-9caf-946fb94547ee"
      },
      "source": [
        "len(df)"
      ],
      "execution_count": 783,
      "outputs": [
        {
          "output_type": "execute_result",
          "data": {
            "text/plain": [
              "5110"
            ]
          },
          "metadata": {
            "tags": []
          },
          "execution_count": 783
        }
      ]
    },
    {
      "cell_type": "code",
      "metadata": {
        "id": "5mhvDEjL3SND"
      },
      "source": [
        "#We have 4909 unique ID's in a dataset with a length of 4909. Each ID only occurs\r\n",
        "#once, so I will remove them.\r\n",
        "\r\n",
        "df = df.drop(\"id\",axis=1)"
      ],
      "execution_count": 784,
      "outputs": []
    },
    {
      "cell_type": "code",
      "metadata": {
        "colab": {
          "base_uri": "https://localhost:8080/",
          "height": 229
        },
        "id": "rVyAHPuO3aT8",
        "outputId": "863f92f2-9feb-41b8-8852-f7f14af2b380"
      },
      "source": [
        "df.head()"
      ],
      "execution_count": 785,
      "outputs": [
        {
          "output_type": "execute_result",
          "data": {
            "text/html": [
              "<div>\n",
              "<style scoped>\n",
              "    .dataframe tbody tr th:only-of-type {\n",
              "        vertical-align: middle;\n",
              "    }\n",
              "\n",
              "    .dataframe tbody tr th {\n",
              "        vertical-align: top;\n",
              "    }\n",
              "\n",
              "    .dataframe thead th {\n",
              "        text-align: right;\n",
              "    }\n",
              "</style>\n",
              "<table border=\"1\" class=\"dataframe\">\n",
              "  <thead>\n",
              "    <tr style=\"text-align: right;\">\n",
              "      <th></th>\n",
              "      <th>gender</th>\n",
              "      <th>age</th>\n",
              "      <th>hypertension</th>\n",
              "      <th>heart_disease</th>\n",
              "      <th>ever_married</th>\n",
              "      <th>work_type</th>\n",
              "      <th>Residence_type</th>\n",
              "      <th>avg_glucose_level</th>\n",
              "      <th>bmi</th>\n",
              "      <th>smoking_status</th>\n",
              "      <th>stroke</th>\n",
              "    </tr>\n",
              "  </thead>\n",
              "  <tbody>\n",
              "    <tr>\n",
              "      <th>0</th>\n",
              "      <td>Male</td>\n",
              "      <td>67.0</td>\n",
              "      <td>0</td>\n",
              "      <td>1</td>\n",
              "      <td>Yes</td>\n",
              "      <td>Private</td>\n",
              "      <td>Urban</td>\n",
              "      <td>228.69</td>\n",
              "      <td>36.6</td>\n",
              "      <td>formerly smoked</td>\n",
              "      <td>1</td>\n",
              "    </tr>\n",
              "    <tr>\n",
              "      <th>1</th>\n",
              "      <td>Female</td>\n",
              "      <td>61.0</td>\n",
              "      <td>0</td>\n",
              "      <td>0</td>\n",
              "      <td>Yes</td>\n",
              "      <td>Self-employed</td>\n",
              "      <td>Rural</td>\n",
              "      <td>202.21</td>\n",
              "      <td>NaN</td>\n",
              "      <td>never smoked</td>\n",
              "      <td>1</td>\n",
              "    </tr>\n",
              "    <tr>\n",
              "      <th>2</th>\n",
              "      <td>Male</td>\n",
              "      <td>80.0</td>\n",
              "      <td>0</td>\n",
              "      <td>1</td>\n",
              "      <td>Yes</td>\n",
              "      <td>Private</td>\n",
              "      <td>Rural</td>\n",
              "      <td>105.92</td>\n",
              "      <td>32.5</td>\n",
              "      <td>never smoked</td>\n",
              "      <td>1</td>\n",
              "    </tr>\n",
              "    <tr>\n",
              "      <th>3</th>\n",
              "      <td>Female</td>\n",
              "      <td>49.0</td>\n",
              "      <td>0</td>\n",
              "      <td>0</td>\n",
              "      <td>Yes</td>\n",
              "      <td>Private</td>\n",
              "      <td>Urban</td>\n",
              "      <td>171.23</td>\n",
              "      <td>34.4</td>\n",
              "      <td>smokes</td>\n",
              "      <td>1</td>\n",
              "    </tr>\n",
              "    <tr>\n",
              "      <th>4</th>\n",
              "      <td>Female</td>\n",
              "      <td>79.0</td>\n",
              "      <td>1</td>\n",
              "      <td>0</td>\n",
              "      <td>Yes</td>\n",
              "      <td>Self-employed</td>\n",
              "      <td>Rural</td>\n",
              "      <td>174.12</td>\n",
              "      <td>24.0</td>\n",
              "      <td>never smoked</td>\n",
              "      <td>1</td>\n",
              "    </tr>\n",
              "  </tbody>\n",
              "</table>\n",
              "</div>"
            ],
            "text/plain": [
              "   gender   age  hypertension  ...   bmi   smoking_status stroke\n",
              "0    Male  67.0             0  ...  36.6  formerly smoked      1\n",
              "1  Female  61.0             0  ...   NaN     never smoked      1\n",
              "2    Male  80.0             0  ...  32.5     never smoked      1\n",
              "3  Female  49.0             0  ...  34.4           smokes      1\n",
              "4  Female  79.0             1  ...  24.0     never smoked      1\n",
              "\n",
              "[5 rows x 11 columns]"
            ]
          },
          "metadata": {
            "tags": []
          },
          "execution_count": 785
        }
      ]
    },
    {
      "cell_type": "code",
      "metadata": {
        "id": "JuPgQEnjYvI0"
      },
      "source": [
        ""
      ],
      "execution_count": 785,
      "outputs": []
    },
    {
      "cell_type": "markdown",
      "metadata": {
        "id": "0QSUNI3R0rhM"
      },
      "source": [
        "####Thoughts about BMI\r\n",
        "\r\n",
        "In this dataset, the BMI is the only way of analyzing each samples corrilation of height and weights - therefore it's an important feature. The problem with BMI is, that it is calculated as: \r\n",
        "\r\n",
        "BMI = weight(kg)/height(m)^2. \r\n",
        "\r\n",
        "It doesn not take into account, that the majority of the weight might either be fat or musclemass. In that regard, BMI cannot tell us wether a person is healthy or not without looking at their workout rutine. Because of this, we might have samples with a high BMI, but of which the person the sample belongs to, is highly active have a lot of muscle mass. If that person suffers from a heart attack, it most likely will not be because of the BMI, however, the machine learning model doesn't have any way of know that. \r\n",
        "\r\n",
        "I have decided to let the BMI stay, because the majority of the samples lie in an age-group, where people usually don't spend most of their time doing bodybuilding. If the model ends up being unaccurate, one of the first changes I might make is to make some sort of change to the BMI-column."
      ]
    },
    {
      "cell_type": "code",
      "metadata": {
        "colab": {
          "base_uri": "https://localhost:8080/"
        },
        "id": "868wphgz1Isu",
        "outputId": "9cd009aa-7438-42b6-dd90-6122c2d12e1e"
      },
      "source": [
        "df.info()"
      ],
      "execution_count": 786,
      "outputs": [
        {
          "output_type": "stream",
          "text": [
            "<class 'pandas.core.frame.DataFrame'>\n",
            "RangeIndex: 5110 entries, 0 to 5109\n",
            "Data columns (total 11 columns):\n",
            " #   Column             Non-Null Count  Dtype  \n",
            "---  ------             --------------  -----  \n",
            " 0   gender             5110 non-null   object \n",
            " 1   age                5110 non-null   float64\n",
            " 2   hypertension       5110 non-null   int64  \n",
            " 3   heart_disease      5110 non-null   int64  \n",
            " 4   ever_married       5110 non-null   object \n",
            " 5   work_type          5110 non-null   object \n",
            " 6   Residence_type     5110 non-null   object \n",
            " 7   avg_glucose_level  5110 non-null   float64\n",
            " 8   bmi                4909 non-null   float64\n",
            " 9   smoking_status     5110 non-null   object \n",
            " 10  stroke             5110 non-null   int64  \n",
            "dtypes: float64(3), int64(3), object(5)\n",
            "memory usage: 439.3+ KB\n"
          ],
          "name": "stdout"
        }
      ]
    },
    {
      "cell_type": "markdown",
      "metadata": {
        "id": "7IzsvwNBYaQR"
      },
      "source": [
        "##Deal with NaN"
      ]
    },
    {
      "cell_type": "markdown",
      "metadata": {
        "id": "AgEqWqaHyOD-"
      },
      "source": [
        "####BMI\r\n",
        "\r\n",
        "The only missing values belong to the bmi-column. As usualy with NaN, there are two options: remove the samples, or fill out the NaN with something else.\r\n",
        "\r\n",
        "Since bmi is a calculation based on height and weights, and since height and weights correlates to age (of which I have a wide range of in this dataset), I have decided to remove the samples i which bmi is NaN.\r\n",
        "\r\n",
        "I could've splitted samples into age-groups, and then iterate through the age-groups and fill out the NaN-bmi with the mean of the bmi within that age-group - this would've been a solution if a majority of the samples in the BMI-column was NaN. But since it's only 200 samples out of the 5100, I will remove them instead."
      ]
    },
    {
      "cell_type": "code",
      "metadata": {
        "colab": {
          "base_uri": "https://localhost:8080/"
        },
        "id": "aq3mMbZ8yHXf",
        "outputId": "1c4671a8-8277-4e42-c4e2-13cab96bfa8b"
      },
      "source": [
        "df.isna().sum()"
      ],
      "execution_count": 787,
      "outputs": [
        {
          "output_type": "execute_result",
          "data": {
            "text/plain": [
              "gender                 0\n",
              "age                    0\n",
              "hypertension           0\n",
              "heart_disease          0\n",
              "ever_married           0\n",
              "work_type              0\n",
              "Residence_type         0\n",
              "avg_glucose_level      0\n",
              "bmi                  201\n",
              "smoking_status         0\n",
              "stroke                 0\n",
              "dtype: int64"
            ]
          },
          "metadata": {
            "tags": []
          },
          "execution_count": 787
        }
      ]
    },
    {
      "cell_type": "code",
      "metadata": {
        "id": "xcBWZuEnzwkc"
      },
      "source": [
        "df.dropna(inplace=True)"
      ],
      "execution_count": 788,
      "outputs": []
    },
    {
      "cell_type": "code",
      "metadata": {
        "colab": {
          "base_uri": "https://localhost:8080/"
        },
        "id": "aUuMjsHe0TM6",
        "outputId": "81f3bf48-ba4c-457d-abcd-c326089afa31"
      },
      "source": [
        "df.isna().sum()"
      ],
      "execution_count": 789,
      "outputs": [
        {
          "output_type": "execute_result",
          "data": {
            "text/plain": [
              "gender               0\n",
              "age                  0\n",
              "hypertension         0\n",
              "heart_disease        0\n",
              "ever_married         0\n",
              "work_type            0\n",
              "Residence_type       0\n",
              "avg_glucose_level    0\n",
              "bmi                  0\n",
              "smoking_status       0\n",
              "stroke               0\n",
              "dtype: int64"
            ]
          },
          "metadata": {
            "tags": []
          },
          "execution_count": 789
        }
      ]
    },
    {
      "cell_type": "markdown",
      "metadata": {
        "id": "nffWQ6ON0UGL"
      },
      "source": [
        "###Thoughs about gender-column\r\n",
        "\r\n",
        "During the DEA, the gender-plot showed there's a section called \"other\". However, it looked like a very small amount of samples belonged to that category. I will find the specific value_count and most likely remove the samples which belongs to that category."
      ]
    },
    {
      "cell_type": "code",
      "metadata": {
        "colab": {
          "base_uri": "https://localhost:8080/"
        },
        "id": "zSa4Lv2r4gui",
        "outputId": "ec34b0da-03e0-4526-a84a-dec141ca2238"
      },
      "source": [
        "df[\"gender\"].value_counts()"
      ],
      "execution_count": 790,
      "outputs": [
        {
          "output_type": "execute_result",
          "data": {
            "text/plain": [
              "Female    2897\n",
              "Male      2011\n",
              "Other        1\n",
              "Name: gender, dtype: int64"
            ]
          },
          "metadata": {
            "tags": []
          },
          "execution_count": 790
        }
      ]
    },
    {
      "cell_type": "code",
      "metadata": {
        "id": "tegRQjd04iaZ"
      },
      "source": [
        "df = df[df[\"gender\"] != \"Other\"]"
      ],
      "execution_count": 791,
      "outputs": []
    },
    {
      "cell_type": "code",
      "metadata": {
        "colab": {
          "base_uri": "https://localhost:8080/"
        },
        "id": "g5D4Hk-d4zsd",
        "outputId": "dc0a15ff-5134-43f4-e1f6-8d57bd4a1863"
      },
      "source": [
        "df[\"gender\"].value_counts()"
      ],
      "execution_count": 792,
      "outputs": [
        {
          "output_type": "execute_result",
          "data": {
            "text/plain": [
              "Female    2897\n",
              "Male      2011\n",
              "Name: gender, dtype: int64"
            ]
          },
          "metadata": {
            "tags": []
          },
          "execution_count": 792
        }
      ]
    },
    {
      "cell_type": "code",
      "metadata": {
        "colab": {
          "base_uri": "https://localhost:8080/",
          "height": 212
        },
        "id": "sgjIoMrZ5XmW",
        "outputId": "157cbb50-a865-4ea9-9b1b-ed464519f593"
      },
      "source": [
        "df.head()"
      ],
      "execution_count": 793,
      "outputs": [
        {
          "output_type": "execute_result",
          "data": {
            "text/html": [
              "<div>\n",
              "<style scoped>\n",
              "    .dataframe tbody tr th:only-of-type {\n",
              "        vertical-align: middle;\n",
              "    }\n",
              "\n",
              "    .dataframe tbody tr th {\n",
              "        vertical-align: top;\n",
              "    }\n",
              "\n",
              "    .dataframe thead th {\n",
              "        text-align: right;\n",
              "    }\n",
              "</style>\n",
              "<table border=\"1\" class=\"dataframe\">\n",
              "  <thead>\n",
              "    <tr style=\"text-align: right;\">\n",
              "      <th></th>\n",
              "      <th>gender</th>\n",
              "      <th>age</th>\n",
              "      <th>hypertension</th>\n",
              "      <th>heart_disease</th>\n",
              "      <th>ever_married</th>\n",
              "      <th>work_type</th>\n",
              "      <th>Residence_type</th>\n",
              "      <th>avg_glucose_level</th>\n",
              "      <th>bmi</th>\n",
              "      <th>smoking_status</th>\n",
              "      <th>stroke</th>\n",
              "    </tr>\n",
              "  </thead>\n",
              "  <tbody>\n",
              "    <tr>\n",
              "      <th>0</th>\n",
              "      <td>Male</td>\n",
              "      <td>67.0</td>\n",
              "      <td>0</td>\n",
              "      <td>1</td>\n",
              "      <td>Yes</td>\n",
              "      <td>Private</td>\n",
              "      <td>Urban</td>\n",
              "      <td>228.69</td>\n",
              "      <td>36.6</td>\n",
              "      <td>formerly smoked</td>\n",
              "      <td>1</td>\n",
              "    </tr>\n",
              "    <tr>\n",
              "      <th>2</th>\n",
              "      <td>Male</td>\n",
              "      <td>80.0</td>\n",
              "      <td>0</td>\n",
              "      <td>1</td>\n",
              "      <td>Yes</td>\n",
              "      <td>Private</td>\n",
              "      <td>Rural</td>\n",
              "      <td>105.92</td>\n",
              "      <td>32.5</td>\n",
              "      <td>never smoked</td>\n",
              "      <td>1</td>\n",
              "    </tr>\n",
              "    <tr>\n",
              "      <th>3</th>\n",
              "      <td>Female</td>\n",
              "      <td>49.0</td>\n",
              "      <td>0</td>\n",
              "      <td>0</td>\n",
              "      <td>Yes</td>\n",
              "      <td>Private</td>\n",
              "      <td>Urban</td>\n",
              "      <td>171.23</td>\n",
              "      <td>34.4</td>\n",
              "      <td>smokes</td>\n",
              "      <td>1</td>\n",
              "    </tr>\n",
              "    <tr>\n",
              "      <th>4</th>\n",
              "      <td>Female</td>\n",
              "      <td>79.0</td>\n",
              "      <td>1</td>\n",
              "      <td>0</td>\n",
              "      <td>Yes</td>\n",
              "      <td>Self-employed</td>\n",
              "      <td>Rural</td>\n",
              "      <td>174.12</td>\n",
              "      <td>24.0</td>\n",
              "      <td>never smoked</td>\n",
              "      <td>1</td>\n",
              "    </tr>\n",
              "    <tr>\n",
              "      <th>5</th>\n",
              "      <td>Male</td>\n",
              "      <td>81.0</td>\n",
              "      <td>0</td>\n",
              "      <td>0</td>\n",
              "      <td>Yes</td>\n",
              "      <td>Private</td>\n",
              "      <td>Urban</td>\n",
              "      <td>186.21</td>\n",
              "      <td>29.0</td>\n",
              "      <td>formerly smoked</td>\n",
              "      <td>1</td>\n",
              "    </tr>\n",
              "  </tbody>\n",
              "</table>\n",
              "</div>"
            ],
            "text/plain": [
              "   gender   age  hypertension  ...   bmi   smoking_status stroke\n",
              "0    Male  67.0             0  ...  36.6  formerly smoked      1\n",
              "2    Male  80.0             0  ...  32.5     never smoked      1\n",
              "3  Female  49.0             0  ...  34.4           smokes      1\n",
              "4  Female  79.0             1  ...  24.0     never smoked      1\n",
              "5    Male  81.0             0  ...  29.0  formerly smoked      1\n",
              "\n",
              "[5 rows x 11 columns]"
            ]
          },
          "metadata": {
            "tags": []
          },
          "execution_count": 793
        }
      ]
    },
    {
      "cell_type": "markdown",
      "metadata": {
        "id": "-zbg12ZlTEbC"
      },
      "source": [
        "##Split data into X and y"
      ]
    },
    {
      "cell_type": "code",
      "metadata": {
        "id": "YPVtXCUzTH01"
      },
      "source": [
        "X = df.drop(\"stroke\",axis=1)\r\n",
        "y=df[\"stroke\"]"
      ],
      "execution_count": 794,
      "outputs": []
    },
    {
      "cell_type": "code",
      "metadata": {
        "colab": {
          "base_uri": "https://localhost:8080/",
          "height": 195
        },
        "id": "pvCmOPjbTLrH",
        "outputId": "61bf1a49-afb4-4629-f4a3-e28519ed1571"
      },
      "source": [
        "X[:5]"
      ],
      "execution_count": 795,
      "outputs": [
        {
          "output_type": "execute_result",
          "data": {
            "text/html": [
              "<div>\n",
              "<style scoped>\n",
              "    .dataframe tbody tr th:only-of-type {\n",
              "        vertical-align: middle;\n",
              "    }\n",
              "\n",
              "    .dataframe tbody tr th {\n",
              "        vertical-align: top;\n",
              "    }\n",
              "\n",
              "    .dataframe thead th {\n",
              "        text-align: right;\n",
              "    }\n",
              "</style>\n",
              "<table border=\"1\" class=\"dataframe\">\n",
              "  <thead>\n",
              "    <tr style=\"text-align: right;\">\n",
              "      <th></th>\n",
              "      <th>gender</th>\n",
              "      <th>age</th>\n",
              "      <th>hypertension</th>\n",
              "      <th>heart_disease</th>\n",
              "      <th>ever_married</th>\n",
              "      <th>work_type</th>\n",
              "      <th>Residence_type</th>\n",
              "      <th>avg_glucose_level</th>\n",
              "      <th>bmi</th>\n",
              "      <th>smoking_status</th>\n",
              "    </tr>\n",
              "  </thead>\n",
              "  <tbody>\n",
              "    <tr>\n",
              "      <th>0</th>\n",
              "      <td>Male</td>\n",
              "      <td>67.0</td>\n",
              "      <td>0</td>\n",
              "      <td>1</td>\n",
              "      <td>Yes</td>\n",
              "      <td>Private</td>\n",
              "      <td>Urban</td>\n",
              "      <td>228.69</td>\n",
              "      <td>36.6</td>\n",
              "      <td>formerly smoked</td>\n",
              "    </tr>\n",
              "    <tr>\n",
              "      <th>2</th>\n",
              "      <td>Male</td>\n",
              "      <td>80.0</td>\n",
              "      <td>0</td>\n",
              "      <td>1</td>\n",
              "      <td>Yes</td>\n",
              "      <td>Private</td>\n",
              "      <td>Rural</td>\n",
              "      <td>105.92</td>\n",
              "      <td>32.5</td>\n",
              "      <td>never smoked</td>\n",
              "    </tr>\n",
              "    <tr>\n",
              "      <th>3</th>\n",
              "      <td>Female</td>\n",
              "      <td>49.0</td>\n",
              "      <td>0</td>\n",
              "      <td>0</td>\n",
              "      <td>Yes</td>\n",
              "      <td>Private</td>\n",
              "      <td>Urban</td>\n",
              "      <td>171.23</td>\n",
              "      <td>34.4</td>\n",
              "      <td>smokes</td>\n",
              "    </tr>\n",
              "    <tr>\n",
              "      <th>4</th>\n",
              "      <td>Female</td>\n",
              "      <td>79.0</td>\n",
              "      <td>1</td>\n",
              "      <td>0</td>\n",
              "      <td>Yes</td>\n",
              "      <td>Self-employed</td>\n",
              "      <td>Rural</td>\n",
              "      <td>174.12</td>\n",
              "      <td>24.0</td>\n",
              "      <td>never smoked</td>\n",
              "    </tr>\n",
              "    <tr>\n",
              "      <th>5</th>\n",
              "      <td>Male</td>\n",
              "      <td>81.0</td>\n",
              "      <td>0</td>\n",
              "      <td>0</td>\n",
              "      <td>Yes</td>\n",
              "      <td>Private</td>\n",
              "      <td>Urban</td>\n",
              "      <td>186.21</td>\n",
              "      <td>29.0</td>\n",
              "      <td>formerly smoked</td>\n",
              "    </tr>\n",
              "  </tbody>\n",
              "</table>\n",
              "</div>"
            ],
            "text/plain": [
              "   gender   age  hypertension  ...  avg_glucose_level   bmi   smoking_status\n",
              "0    Male  67.0             0  ...             228.69  36.6  formerly smoked\n",
              "2    Male  80.0             0  ...             105.92  32.5     never smoked\n",
              "3  Female  49.0             0  ...             171.23  34.4           smokes\n",
              "4  Female  79.0             1  ...             174.12  24.0     never smoked\n",
              "5    Male  81.0             0  ...             186.21  29.0  formerly smoked\n",
              "\n",
              "[5 rows x 10 columns]"
            ]
          },
          "metadata": {
            "tags": []
          },
          "execution_count": 795
        }
      ]
    },
    {
      "cell_type": "code",
      "metadata": {
        "colab": {
          "base_uri": "https://localhost:8080/"
        },
        "id": "WjvLzKc1TMiq",
        "outputId": "2bb70baa-7d13-46fe-f159-83d670d683ee"
      },
      "source": [
        "y[:5]"
      ],
      "execution_count": 796,
      "outputs": [
        {
          "output_type": "execute_result",
          "data": {
            "text/plain": [
              "0    1\n",
              "2    1\n",
              "3    1\n",
              "4    1\n",
              "5    1\n",
              "Name: stroke, dtype: int64"
            ]
          },
          "metadata": {
            "tags": []
          },
          "execution_count": 796
        }
      ]
    },
    {
      "cell_type": "code",
      "metadata": {
        "colab": {
          "base_uri": "https://localhost:8080/"
        },
        "id": "S4mmPxC-xsEw",
        "outputId": "a80a5e52-b80f-4db8-b09d-6d99f4d74700"
      },
      "source": [
        "X.info()"
      ],
      "execution_count": 797,
      "outputs": [
        {
          "output_type": "stream",
          "text": [
            "<class 'pandas.core.frame.DataFrame'>\n",
            "Int64Index: 4908 entries, 0 to 5109\n",
            "Data columns (total 10 columns):\n",
            " #   Column             Non-Null Count  Dtype  \n",
            "---  ------             --------------  -----  \n",
            " 0   gender             4908 non-null   object \n",
            " 1   age                4908 non-null   float64\n",
            " 2   hypertension       4908 non-null   int64  \n",
            " 3   heart_disease      4908 non-null   int64  \n",
            " 4   ever_married       4908 non-null   object \n",
            " 5   work_type          4908 non-null   object \n",
            " 6   Residence_type     4908 non-null   object \n",
            " 7   avg_glucose_level  4908 non-null   float64\n",
            " 8   bmi                4908 non-null   float64\n",
            " 9   smoking_status     4908 non-null   object \n",
            "dtypes: float64(3), int64(2), object(5)\n",
            "memory usage: 421.8+ KB\n"
          ],
          "name": "stdout"
        }
      ]
    },
    {
      "cell_type": "markdown",
      "metadata": {
        "id": "ciPD_Q-N5pgV"
      },
      "source": [
        "##Deal with non-numerical values\r\n",
        "\r\n",
        "As shown below, we have the following columns which fall under the \"object\" datatype:\r\n",
        "\r\n",
        "- gender\r\n",
        "- ever_married\r\n",
        "- work_type\r\n",
        "- Residence_type\r\n",
        "- smoking_status\r\n",
        "\r\n",
        "Depending on the value_counts() for each feature, I will either use label encoding on the features with binary-values or one-hot encoding on the features with multiple values."
      ]
    },
    {
      "cell_type": "code",
      "metadata": {
        "id": "n_HvSus06GFt"
      },
      "source": [
        "object_columns = [\"gender\",\"ever_married\",\"work_type\",\"Residence_type\",\"smoking_status\"]\r\n",
        "binary_features = []\r\n",
        "multiple_features = []\r\n",
        "\r\n",
        "for column in object_columns:\r\n",
        "  if len(df[column].value_counts()) == 2:\r\n",
        "    binary_features.append(column)\r\n",
        "  else:\r\n",
        "    multiple_features.append(column)"
      ],
      "execution_count": 798,
      "outputs": []
    },
    {
      "cell_type": "code",
      "metadata": {
        "colab": {
          "base_uri": "https://localhost:8080/"
        },
        "id": "JzeU0OlQ7asI",
        "outputId": "215ff61b-daf1-4022-e98b-e9c85059d43e"
      },
      "source": [
        "binary_features"
      ],
      "execution_count": 799,
      "outputs": [
        {
          "output_type": "execute_result",
          "data": {
            "text/plain": [
              "['gender', 'ever_married', 'Residence_type']"
            ]
          },
          "metadata": {
            "tags": []
          },
          "execution_count": 799
        }
      ]
    },
    {
      "cell_type": "code",
      "metadata": {
        "colab": {
          "base_uri": "https://localhost:8080/"
        },
        "id": "35wwudrK7gMB",
        "outputId": "d9fb8e8d-2837-4b29-ef28-17ee932c3854"
      },
      "source": [
        "multiple_features"
      ],
      "execution_count": 800,
      "outputs": [
        {
          "output_type": "execute_result",
          "data": {
            "text/plain": [
              "['work_type', 'smoking_status']"
            ]
          },
          "metadata": {
            "tags": []
          },
          "execution_count": 800
        }
      ]
    },
    {
      "cell_type": "markdown",
      "metadata": {
        "id": "TXbWycKw75PR"
      },
      "source": [
        "###Label Encoding\r\n",
        "\r\n",
        "**Label encoding will be done on the binary columns:**<br>\r\n",
        "- gender\r\n",
        "- ever_married\r\n",
        "- residence_type\r\n"
      ]
    },
    {
      "cell_type": "code",
      "metadata": {
        "id": "BBDQX20K8Lh0"
      },
      "source": [
        "from sklearn.preprocessing import LabelEncoder, OneHotEncoder\r\n",
        "from sklearn.compose import ColumnTransformer"
      ],
      "execution_count": 801,
      "outputs": []
    },
    {
      "cell_type": "code",
      "metadata": {
        "colab": {
          "base_uri": "https://localhost:8080/"
        },
        "id": "axrY4R0lQwiL",
        "outputId": "7014ee5b-c3d1-47c2-c0d5-b413c9a7e1ba"
      },
      "source": [
        " binary_features"
      ],
      "execution_count": 802,
      "outputs": [
        {
          "output_type": "execute_result",
          "data": {
            "text/plain": [
              "['gender', 'ever_married', 'Residence_type']"
            ]
          },
          "metadata": {
            "tags": []
          },
          "execution_count": 802
        }
      ]
    },
    {
      "cell_type": "code",
      "metadata": {
        "id": "sxF8ju9PPrsV"
      },
      "source": [
        "gender_label_encoder = LabelEncoder()\r\n",
        "ever_married_label_encoder = LabelEncoder()\r\n",
        "residence_type_label_encoder = LabelEncoder()"
      ],
      "execution_count": 803,
      "outputs": []
    },
    {
      "cell_type": "code",
      "metadata": {
        "id": "FcHizrvsQEp4"
      },
      "source": [
        "X[\"gender\"] = gender_label_encoder.fit_transform(X[\"gender\"])\r\n",
        "X[\"ever_married\"] = ever_married_label_encoder.fit_transform(X[\"ever_married\"])\r\n",
        "X[\"Residence_type\"] = residence_type_label_encoder.fit_transform(X[\"Residence_type\"])"
      ],
      "execution_count": 804,
      "outputs": []
    },
    {
      "cell_type": "code",
      "metadata": {
        "colab": {
          "base_uri": "https://localhost:8080/",
          "height": 0
        },
        "id": "UnH25ai7QkaQ",
        "outputId": "e9be54bc-29f9-4b0f-96e3-ef7b8d1224f3"
      },
      "source": [
        "X.head()"
      ],
      "execution_count": 805,
      "outputs": [
        {
          "output_type": "execute_result",
          "data": {
            "text/html": [
              "<div>\n",
              "<style scoped>\n",
              "    .dataframe tbody tr th:only-of-type {\n",
              "        vertical-align: middle;\n",
              "    }\n",
              "\n",
              "    .dataframe tbody tr th {\n",
              "        vertical-align: top;\n",
              "    }\n",
              "\n",
              "    .dataframe thead th {\n",
              "        text-align: right;\n",
              "    }\n",
              "</style>\n",
              "<table border=\"1\" class=\"dataframe\">\n",
              "  <thead>\n",
              "    <tr style=\"text-align: right;\">\n",
              "      <th></th>\n",
              "      <th>gender</th>\n",
              "      <th>age</th>\n",
              "      <th>hypertension</th>\n",
              "      <th>heart_disease</th>\n",
              "      <th>ever_married</th>\n",
              "      <th>work_type</th>\n",
              "      <th>Residence_type</th>\n",
              "      <th>avg_glucose_level</th>\n",
              "      <th>bmi</th>\n",
              "      <th>smoking_status</th>\n",
              "    </tr>\n",
              "  </thead>\n",
              "  <tbody>\n",
              "    <tr>\n",
              "      <th>0</th>\n",
              "      <td>1</td>\n",
              "      <td>67.0</td>\n",
              "      <td>0</td>\n",
              "      <td>1</td>\n",
              "      <td>1</td>\n",
              "      <td>Private</td>\n",
              "      <td>1</td>\n",
              "      <td>228.69</td>\n",
              "      <td>36.6</td>\n",
              "      <td>formerly smoked</td>\n",
              "    </tr>\n",
              "    <tr>\n",
              "      <th>2</th>\n",
              "      <td>1</td>\n",
              "      <td>80.0</td>\n",
              "      <td>0</td>\n",
              "      <td>1</td>\n",
              "      <td>1</td>\n",
              "      <td>Private</td>\n",
              "      <td>0</td>\n",
              "      <td>105.92</td>\n",
              "      <td>32.5</td>\n",
              "      <td>never smoked</td>\n",
              "    </tr>\n",
              "    <tr>\n",
              "      <th>3</th>\n",
              "      <td>0</td>\n",
              "      <td>49.0</td>\n",
              "      <td>0</td>\n",
              "      <td>0</td>\n",
              "      <td>1</td>\n",
              "      <td>Private</td>\n",
              "      <td>1</td>\n",
              "      <td>171.23</td>\n",
              "      <td>34.4</td>\n",
              "      <td>smokes</td>\n",
              "    </tr>\n",
              "    <tr>\n",
              "      <th>4</th>\n",
              "      <td>0</td>\n",
              "      <td>79.0</td>\n",
              "      <td>1</td>\n",
              "      <td>0</td>\n",
              "      <td>1</td>\n",
              "      <td>Self-employed</td>\n",
              "      <td>0</td>\n",
              "      <td>174.12</td>\n",
              "      <td>24.0</td>\n",
              "      <td>never smoked</td>\n",
              "    </tr>\n",
              "    <tr>\n",
              "      <th>5</th>\n",
              "      <td>1</td>\n",
              "      <td>81.0</td>\n",
              "      <td>0</td>\n",
              "      <td>0</td>\n",
              "      <td>1</td>\n",
              "      <td>Private</td>\n",
              "      <td>1</td>\n",
              "      <td>186.21</td>\n",
              "      <td>29.0</td>\n",
              "      <td>formerly smoked</td>\n",
              "    </tr>\n",
              "  </tbody>\n",
              "</table>\n",
              "</div>"
            ],
            "text/plain": [
              "   gender   age  hypertension  ...  avg_glucose_level   bmi   smoking_status\n",
              "0       1  67.0             0  ...             228.69  36.6  formerly smoked\n",
              "2       1  80.0             0  ...             105.92  32.5     never smoked\n",
              "3       0  49.0             0  ...             171.23  34.4           smokes\n",
              "4       0  79.0             1  ...             174.12  24.0     never smoked\n",
              "5       1  81.0             0  ...             186.21  29.0  formerly smoked\n",
              "\n",
              "[5 rows x 10 columns]"
            ]
          },
          "metadata": {
            "tags": []
          },
          "execution_count": 805
        }
      ]
    },
    {
      "cell_type": "markdown",
      "metadata": {
        "id": "UB1Efn-0QqB3"
      },
      "source": [
        "###OneHot Encoding"
      ]
    },
    {
      "cell_type": "code",
      "metadata": {
        "colab": {
          "base_uri": "https://localhost:8080/"
        },
        "id": "WHtLGND4QvZK",
        "outputId": "8ed1e0a6-f0b5-40d1-d8e9-c83e45fcdf55"
      },
      "source": [
        "multiple_features"
      ],
      "execution_count": 806,
      "outputs": [
        {
          "output_type": "execute_result",
          "data": {
            "text/plain": [
              "['work_type', 'smoking_status']"
            ]
          },
          "metadata": {
            "tags": []
          },
          "execution_count": 806
        }
      ]
    },
    {
      "cell_type": "code",
      "metadata": {
        "id": "xuJ8Rz8TQy9r"
      },
      "source": [
        "work_type_onehot_encoder = ColumnTransformer(transformers=[(\"encoder\",OneHotEncoder(),[5])], remainder=\"passthrough\")\r\n",
        "X=np.array(work_type_onehot_encoder.fit_transform(X))"
      ],
      "execution_count": 807,
      "outputs": []
    },
    {
      "cell_type": "code",
      "metadata": {
        "colab": {
          "base_uri": "https://localhost:8080/"
        },
        "id": "lYjyHZvIUKZW",
        "outputId": "284cd09a-9f1a-475e-b5e4-5afdf3a0a60e"
      },
      "source": [
        "X[:5]"
      ],
      "execution_count": 808,
      "outputs": [
        {
          "output_type": "execute_result",
          "data": {
            "text/plain": [
              "array([[0.0, 0.0, 1.0, 0.0, 0.0, 1, 67.0, 0, 1, 1, 1, 228.69, 36.6,\n",
              "        'formerly smoked'],\n",
              "       [0.0, 0.0, 1.0, 0.0, 0.0, 1, 80.0, 0, 1, 1, 0, 105.92, 32.5,\n",
              "        'never smoked'],\n",
              "       [0.0, 0.0, 1.0, 0.0, 0.0, 0, 49.0, 0, 0, 1, 1, 171.23, 34.4,\n",
              "        'smokes'],\n",
              "       [0.0, 0.0, 0.0, 1.0, 0.0, 0, 79.0, 1, 0, 1, 0, 174.12, 24.0,\n",
              "        'never smoked'],\n",
              "       [0.0, 0.0, 1.0, 0.0, 0.0, 1, 81.0, 0, 0, 1, 1, 186.21, 29.0,\n",
              "        'formerly smoked']], dtype=object)"
            ]
          },
          "metadata": {
            "tags": []
          },
          "execution_count": 808
        }
      ]
    },
    {
      "cell_type": "code",
      "metadata": {
        "id": "2AHzmYMGUcAa"
      },
      "source": [
        "smoking_status_onehot_encoder = ColumnTransformer(transformers=[(\"encoder\",OneHotEncoder(),[13])], remainder=\"passthrough\")\r\n",
        "X=np.array(smoking_status_onehot_encoder.fit_transform(X))"
      ],
      "execution_count": 809,
      "outputs": []
    },
    {
      "cell_type": "code",
      "metadata": {
        "colab": {
          "base_uri": "https://localhost:8080/"
        },
        "id": "-sdlerOCVMBd",
        "outputId": "4b650a2f-90ae-4f81-c1fd-6d7146449a01"
      },
      "source": [
        "X[:5]"
      ],
      "execution_count": 810,
      "outputs": [
        {
          "output_type": "execute_result",
          "data": {
            "text/plain": [
              "array([[0.0, 1.0, 0.0, 0.0, 0.0, 0.0, 1.0, 0.0, 0.0, 1, 67.0, 0, 1, 1, 1,\n",
              "        228.69, 36.6],\n",
              "       [0.0, 0.0, 1.0, 0.0, 0.0, 0.0, 1.0, 0.0, 0.0, 1, 80.0, 0, 1, 1, 0,\n",
              "        105.92, 32.5],\n",
              "       [0.0, 0.0, 0.0, 1.0, 0.0, 0.0, 1.0, 0.0, 0.0, 0, 49.0, 0, 0, 1, 1,\n",
              "        171.23, 34.4],\n",
              "       [0.0, 0.0, 1.0, 0.0, 0.0, 0.0, 0.0, 1.0, 0.0, 0, 79.0, 1, 0, 1, 0,\n",
              "        174.12, 24.0],\n",
              "       [0.0, 1.0, 0.0, 0.0, 0.0, 0.0, 1.0, 0.0, 0.0, 1, 81.0, 0, 0, 1, 1,\n",
              "        186.21, 29.0]], dtype=object)"
            ]
          },
          "metadata": {
            "tags": []
          },
          "execution_count": 810
        }
      ]
    },
    {
      "cell_type": "markdown",
      "metadata": {
        "id": "1oTWb0yOVY-C"
      },
      "source": [
        "##Normalize data"
      ]
    },
    {
      "cell_type": "code",
      "metadata": {
        "id": "ZdssVfEJVbDD"
      },
      "source": [
        "from sklearn.preprocessing import MinMaxScaler"
      ],
      "execution_count": 811,
      "outputs": []
    },
    {
      "cell_type": "code",
      "metadata": {
        "id": "n3ycIlvNVuvD"
      },
      "source": [
        "min_max_scaler = MinMaxScaler()"
      ],
      "execution_count": 812,
      "outputs": []
    },
    {
      "cell_type": "code",
      "metadata": {
        "id": "g-gs_eiFVvx6"
      },
      "source": [
        "X = min_max_scaler.fit_transform(X)"
      ],
      "execution_count": 813,
      "outputs": []
    },
    {
      "cell_type": "code",
      "metadata": {
        "colab": {
          "base_uri": "https://localhost:8080/"
        },
        "id": "efg21clnVzSb",
        "outputId": "ab691402-497d-4b6b-cb50-91068003a9cf"
      },
      "source": [
        "X[:5]"
      ],
      "execution_count": 814,
      "outputs": [
        {
          "output_type": "execute_result",
          "data": {
            "text/plain": [
              "array([[0.        , 1.        , 0.        , 0.        , 0.        ,\n",
              "        0.        , 1.        , 0.        , 0.        , 1.        ,\n",
              "        0.81689453, 0.        , 1.        , 1.        , 1.        ,\n",
              "        0.80126489, 0.30126002],\n",
              "       [0.        , 0.        , 1.        , 0.        , 0.        ,\n",
              "        0.        , 1.        , 0.        , 0.        , 1.        ,\n",
              "        0.97558594, 0.        , 1.        , 1.        , 0.        ,\n",
              "        0.23451205, 0.25429553],\n",
              "       [0.        , 0.        , 0.        , 1.        , 0.        ,\n",
              "        0.        , 1.        , 0.        , 0.        , 0.        ,\n",
              "        0.59716797, 0.        , 0.        , 1.        , 1.        ,\n",
              "        0.53600776, 0.27605956],\n",
              "       [0.        , 0.        , 1.        , 0.        , 0.        ,\n",
              "        0.        , 0.        , 1.        , 0.        , 0.        ,\n",
              "        0.96337891, 1.        , 0.        , 1.        , 0.        ,\n",
              "        0.54934909, 0.15693013],\n",
              "       [0.        , 1.        , 0.        , 0.        , 0.        ,\n",
              "        0.        , 1.        , 0.        , 0.        , 1.        ,\n",
              "        0.98779297, 0.        , 0.        , 1.        , 1.        ,\n",
              "        0.60516111, 0.21420389]])"
            ]
          },
          "metadata": {
            "tags": []
          },
          "execution_count": 814
        }
      ]
    },
    {
      "cell_type": "markdown",
      "metadata": {
        "id": "JsfKp0kFV0qQ"
      },
      "source": [
        "#Modeling"
      ]
    },
    {
      "cell_type": "markdown",
      "metadata": {
        "id": "APmCClwIo5ZY"
      },
      "source": [
        "##Without SMOTE"
      ]
    },
    {
      "cell_type": "markdown",
      "metadata": {
        "id": "xqBtjn13XowP"
      },
      "source": [
        "###Split data into training and validation sets"
      ]
    },
    {
      "cell_type": "code",
      "metadata": {
        "id": "pVukTtL2Xri2"
      },
      "source": [
        "from sklearn.model_selection import train_test_split"
      ],
      "execution_count": 815,
      "outputs": []
    },
    {
      "cell_type": "code",
      "metadata": {
        "id": "wsuqyt6xX6GQ"
      },
      "source": [
        "X_train,X_test,y_train,y_test = train_test_split(X,y,test_size=0.2,random_state=42)"
      ],
      "execution_count": 816,
      "outputs": []
    },
    {
      "cell_type": "code",
      "metadata": {
        "colab": {
          "base_uri": "https://localhost:8080/"
        },
        "id": "CeSlCHM8ZGgt",
        "outputId": "9eb317a9-ec5d-475d-f37b-ad32d17c0278"
      },
      "source": [
        "X_train.shape,y_train.shape,X_test.shape,y_test.shape"
      ],
      "execution_count": 817,
      "outputs": [
        {
          "output_type": "execute_result",
          "data": {
            "text/plain": [
              "((3926, 17), (3926,), (982, 17), (982,))"
            ]
          },
          "metadata": {
            "tags": []
          },
          "execution_count": 817
        }
      ]
    },
    {
      "cell_type": "markdown",
      "metadata": {
        "id": "mZMa6TY9WVu0"
      },
      "source": [
        "###Create and compile ANN"
      ]
    },
    {
      "cell_type": "code",
      "metadata": {
        "id": "lnGTL0kOWZAM"
      },
      "source": [
        "from keras.models import Sequential\r\n",
        "from keras.layers.core import Dense\r\n",
        "from keras.optimizers import Adam\r\n",
        "from keras.objectives import BinaryCrossentropy"
      ],
      "execution_count": 818,
      "outputs": []
    },
    {
      "cell_type": "code",
      "metadata": {
        "id": "s8yq8Yd2WuRX"
      },
      "source": [
        "#Create ANN\r\n",
        "ann = Sequential([\r\n",
        "                  Dense(units=5, activation=\"relu\"),\r\n",
        "                  Dense(units=1, activation=\"sigmoid\")\r\n",
        "])"
      ],
      "execution_count": 819,
      "outputs": []
    },
    {
      "cell_type": "code",
      "metadata": {
        "id": "cdfddx9dXIag"
      },
      "source": [
        "#compile ANN\r\n",
        "ann.compile(optimizer=\"adam\",loss=\"binary_crossentropy\",metrics=[\"accuracy\"])"
      ],
      "execution_count": 820,
      "outputs": []
    },
    {
      "cell_type": "markdown",
      "metadata": {
        "id": "17RIXVx_XWtV"
      },
      "source": [
        "###Train ANN"
      ]
    },
    {
      "cell_type": "code",
      "metadata": {
        "colab": {
          "base_uri": "https://localhost:8080/"
        },
        "id": "l8oKgVmnXYp3",
        "outputId": "048ef9af-28ce-4fd7-ccf2-ce976edaae95"
      },
      "source": [
        "ann.fit(x=X_train,y=y_train,batch_size=32,epochs=100,verbose=2)"
      ],
      "execution_count": 821,
      "outputs": [
        {
          "output_type": "stream",
          "text": [
            "Epoch 1/100\n",
            "123/123 - 1s - loss: 0.6258 - accuracy: 0.6544\n",
            "Epoch 2/100\n",
            "123/123 - 0s - loss: 0.3212 - accuracy: 0.9603\n",
            "Epoch 3/100\n",
            "123/123 - 0s - loss: 0.2233 - accuracy: 0.9603\n",
            "Epoch 4/100\n",
            "123/123 - 0s - loss: 0.1987 - accuracy: 0.9603\n",
            "Epoch 5/100\n",
            "123/123 - 0s - loss: 0.1899 - accuracy: 0.9603\n",
            "Epoch 6/100\n",
            "123/123 - 0s - loss: 0.1847 - accuracy: 0.9603\n",
            "Epoch 7/100\n",
            "123/123 - 0s - loss: 0.1803 - accuracy: 0.9603\n",
            "Epoch 8/100\n",
            "123/123 - 0s - loss: 0.1763 - accuracy: 0.9603\n",
            "Epoch 9/100\n",
            "123/123 - 0s - loss: 0.1720 - accuracy: 0.9603\n",
            "Epoch 10/100\n",
            "123/123 - 0s - loss: 0.1680 - accuracy: 0.9603\n",
            "Epoch 11/100\n",
            "123/123 - 0s - loss: 0.1645 - accuracy: 0.9603\n",
            "Epoch 12/100\n",
            "123/123 - 0s - loss: 0.1615 - accuracy: 0.9603\n",
            "Epoch 13/100\n",
            "123/123 - 0s - loss: 0.1590 - accuracy: 0.9603\n",
            "Epoch 14/100\n",
            "123/123 - 0s - loss: 0.1569 - accuracy: 0.9603\n",
            "Epoch 15/100\n",
            "123/123 - 0s - loss: 0.1553 - accuracy: 0.9603\n",
            "Epoch 16/100\n",
            "123/123 - 0s - loss: 0.1536 - accuracy: 0.9603\n",
            "Epoch 17/100\n",
            "123/123 - 0s - loss: 0.1526 - accuracy: 0.9603\n",
            "Epoch 18/100\n",
            "123/123 - 0s - loss: 0.1514 - accuracy: 0.9603\n",
            "Epoch 19/100\n",
            "123/123 - 0s - loss: 0.1503 - accuracy: 0.9603\n",
            "Epoch 20/100\n",
            "123/123 - 0s - loss: 0.1495 - accuracy: 0.9603\n",
            "Epoch 21/100\n",
            "123/123 - 0s - loss: 0.1487 - accuracy: 0.9603\n",
            "Epoch 22/100\n",
            "123/123 - 0s - loss: 0.1479 - accuracy: 0.9603\n",
            "Epoch 23/100\n",
            "123/123 - 0s - loss: 0.1472 - accuracy: 0.9603\n",
            "Epoch 24/100\n",
            "123/123 - 0s - loss: 0.1465 - accuracy: 0.9600\n",
            "Epoch 25/100\n",
            "123/123 - 0s - loss: 0.1459 - accuracy: 0.9603\n",
            "Epoch 26/100\n",
            "123/123 - 0s - loss: 0.1456 - accuracy: 0.9603\n",
            "Epoch 27/100\n",
            "123/123 - 0s - loss: 0.1448 - accuracy: 0.9600\n",
            "Epoch 28/100\n",
            "123/123 - 0s - loss: 0.1441 - accuracy: 0.9600\n",
            "Epoch 29/100\n",
            "123/123 - 0s - loss: 0.1440 - accuracy: 0.9603\n",
            "Epoch 30/100\n",
            "123/123 - 0s - loss: 0.1432 - accuracy: 0.9600\n",
            "Epoch 31/100\n",
            "123/123 - 0s - loss: 0.1429 - accuracy: 0.9600\n",
            "Epoch 32/100\n",
            "123/123 - 0s - loss: 0.1424 - accuracy: 0.9603\n",
            "Epoch 33/100\n",
            "123/123 - 0s - loss: 0.1419 - accuracy: 0.9605\n",
            "Epoch 34/100\n",
            "123/123 - 0s - loss: 0.1416 - accuracy: 0.9603\n",
            "Epoch 35/100\n",
            "123/123 - 0s - loss: 0.1416 - accuracy: 0.9603\n",
            "Epoch 36/100\n",
            "123/123 - 0s - loss: 0.1409 - accuracy: 0.9603\n",
            "Epoch 37/100\n",
            "123/123 - 0s - loss: 0.1405 - accuracy: 0.9603\n",
            "Epoch 38/100\n",
            "123/123 - 0s - loss: 0.1401 - accuracy: 0.9603\n",
            "Epoch 39/100\n",
            "123/123 - 0s - loss: 0.1398 - accuracy: 0.9605\n",
            "Epoch 40/100\n",
            "123/123 - 0s - loss: 0.1396 - accuracy: 0.9600\n",
            "Epoch 41/100\n",
            "123/123 - 0s - loss: 0.1392 - accuracy: 0.9605\n",
            "Epoch 42/100\n",
            "123/123 - 0s - loss: 0.1390 - accuracy: 0.9603\n",
            "Epoch 43/100\n",
            "123/123 - 0s - loss: 0.1385 - accuracy: 0.9600\n",
            "Epoch 44/100\n",
            "123/123 - 0s - loss: 0.1384 - accuracy: 0.9603\n",
            "Epoch 45/100\n",
            "123/123 - 0s - loss: 0.1381 - accuracy: 0.9603\n",
            "Epoch 46/100\n",
            "123/123 - 0s - loss: 0.1380 - accuracy: 0.9603\n",
            "Epoch 47/100\n",
            "123/123 - 0s - loss: 0.1376 - accuracy: 0.9603\n",
            "Epoch 48/100\n",
            "123/123 - 0s - loss: 0.1373 - accuracy: 0.9603\n",
            "Epoch 49/100\n",
            "123/123 - 0s - loss: 0.1368 - accuracy: 0.9608\n",
            "Epoch 50/100\n",
            "123/123 - 0s - loss: 0.1367 - accuracy: 0.9605\n",
            "Epoch 51/100\n",
            "123/123 - 0s - loss: 0.1367 - accuracy: 0.9603\n",
            "Epoch 52/100\n",
            "123/123 - 0s - loss: 0.1362 - accuracy: 0.9605\n",
            "Epoch 53/100\n",
            "123/123 - 0s - loss: 0.1362 - accuracy: 0.9605\n",
            "Epoch 54/100\n",
            "123/123 - 0s - loss: 0.1357 - accuracy: 0.9605\n",
            "Epoch 55/100\n",
            "123/123 - 0s - loss: 0.1358 - accuracy: 0.9605\n",
            "Epoch 56/100\n",
            "123/123 - 0s - loss: 0.1355 - accuracy: 0.9605\n",
            "Epoch 57/100\n",
            "123/123 - 0s - loss: 0.1352 - accuracy: 0.9603\n",
            "Epoch 58/100\n",
            "123/123 - 0s - loss: 0.1354 - accuracy: 0.9603\n",
            "Epoch 59/100\n",
            "123/123 - 0s - loss: 0.1351 - accuracy: 0.9608\n",
            "Epoch 60/100\n",
            "123/123 - 0s - loss: 0.1349 - accuracy: 0.9603\n",
            "Epoch 61/100\n",
            "123/123 - 0s - loss: 0.1349 - accuracy: 0.9608\n",
            "Epoch 62/100\n",
            "123/123 - 0s - loss: 0.1346 - accuracy: 0.9605\n",
            "Epoch 63/100\n",
            "123/123 - 0s - loss: 0.1344 - accuracy: 0.9603\n",
            "Epoch 64/100\n",
            "123/123 - 0s - loss: 0.1340 - accuracy: 0.9608\n",
            "Epoch 65/100\n",
            "123/123 - 0s - loss: 0.1340 - accuracy: 0.9603\n",
            "Epoch 66/100\n",
            "123/123 - 0s - loss: 0.1339 - accuracy: 0.9603\n",
            "Epoch 67/100\n",
            "123/123 - 0s - loss: 0.1337 - accuracy: 0.9603\n",
            "Epoch 68/100\n",
            "123/123 - 0s - loss: 0.1336 - accuracy: 0.9603\n",
            "Epoch 69/100\n",
            "123/123 - 0s - loss: 0.1335 - accuracy: 0.9608\n",
            "Epoch 70/100\n",
            "123/123 - 0s - loss: 0.1334 - accuracy: 0.9603\n",
            "Epoch 71/100\n",
            "123/123 - 0s - loss: 0.1331 - accuracy: 0.9605\n",
            "Epoch 72/100\n",
            "123/123 - 0s - loss: 0.1336 - accuracy: 0.9608\n",
            "Epoch 73/100\n",
            "123/123 - 0s - loss: 0.1330 - accuracy: 0.9605\n",
            "Epoch 74/100\n",
            "123/123 - 0s - loss: 0.1330 - accuracy: 0.9603\n",
            "Epoch 75/100\n",
            "123/123 - 0s - loss: 0.1327 - accuracy: 0.9608\n",
            "Epoch 76/100\n",
            "123/123 - 0s - loss: 0.1330 - accuracy: 0.9608\n",
            "Epoch 77/100\n",
            "123/123 - 0s - loss: 0.1325 - accuracy: 0.9605\n",
            "Epoch 78/100\n",
            "123/123 - 0s - loss: 0.1324 - accuracy: 0.9603\n",
            "Epoch 79/100\n",
            "123/123 - 0s - loss: 0.1325 - accuracy: 0.9610\n",
            "Epoch 80/100\n",
            "123/123 - 0s - loss: 0.1326 - accuracy: 0.9608\n",
            "Epoch 81/100\n",
            "123/123 - 0s - loss: 0.1324 - accuracy: 0.9608\n",
            "Epoch 82/100\n",
            "123/123 - 0s - loss: 0.1321 - accuracy: 0.9603\n",
            "Epoch 83/100\n",
            "123/123 - 0s - loss: 0.1322 - accuracy: 0.9605\n",
            "Epoch 84/100\n",
            "123/123 - 0s - loss: 0.1321 - accuracy: 0.9605\n",
            "Epoch 85/100\n",
            "123/123 - 0s - loss: 0.1319 - accuracy: 0.9605\n",
            "Epoch 86/100\n",
            "123/123 - 0s - loss: 0.1321 - accuracy: 0.9605\n",
            "Epoch 87/100\n",
            "123/123 - 0s - loss: 0.1319 - accuracy: 0.9608\n",
            "Epoch 88/100\n",
            "123/123 - 0s - loss: 0.1317 - accuracy: 0.9605\n",
            "Epoch 89/100\n",
            "123/123 - 0s - loss: 0.1317 - accuracy: 0.9605\n",
            "Epoch 90/100\n",
            "123/123 - 0s - loss: 0.1316 - accuracy: 0.9608\n",
            "Epoch 91/100\n",
            "123/123 - 0s - loss: 0.1316 - accuracy: 0.9608\n",
            "Epoch 92/100\n",
            "123/123 - 0s - loss: 0.1314 - accuracy: 0.9608\n",
            "Epoch 93/100\n",
            "123/123 - 0s - loss: 0.1315 - accuracy: 0.9608\n",
            "Epoch 94/100\n",
            "123/123 - 0s - loss: 0.1313 - accuracy: 0.9608\n",
            "Epoch 95/100\n",
            "123/123 - 0s - loss: 0.1313 - accuracy: 0.9605\n",
            "Epoch 96/100\n",
            "123/123 - 0s - loss: 0.1312 - accuracy: 0.9608\n",
            "Epoch 97/100\n",
            "123/123 - 0s - loss: 0.1312 - accuracy: 0.9608\n",
            "Epoch 98/100\n",
            "123/123 - 0s - loss: 0.1310 - accuracy: 0.9608\n",
            "Epoch 99/100\n",
            "123/123 - 0s - loss: 0.1311 - accuracy: 0.9605\n",
            "Epoch 100/100\n",
            "123/123 - 0s - loss: 0.1310 - accuracy: 0.9608\n"
          ],
          "name": "stdout"
        },
        {
          "output_type": "execute_result",
          "data": {
            "text/plain": [
              "<tensorflow.python.keras.callbacks.History at 0x7f11007a2160>"
            ]
          },
          "metadata": {
            "tags": []
          },
          "execution_count": 821
        }
      ]
    },
    {
      "cell_type": "markdown",
      "metadata": {
        "id": "D0uZpi30Xgit"
      },
      "source": [
        "###Evaluate model"
      ]
    },
    {
      "cell_type": "markdown",
      "metadata": {
        "id": "WoJK1SF4bApQ"
      },
      "source": [
        "###Confusion matrix"
      ]
    },
    {
      "cell_type": "code",
      "metadata": {
        "id": "DIXyhvVrabUm"
      },
      "source": [
        "y_preds = ann.predict(X_test)"
      ],
      "execution_count": 822,
      "outputs": []
    },
    {
      "cell_type": "code",
      "metadata": {
        "colab": {
          "base_uri": "https://localhost:8080/"
        },
        "id": "GZJbKRBJbawM",
        "outputId": "a6043713-0b2b-4cb4-8122-a97e5ed1d85e"
      },
      "source": [
        "y_preds[:5]"
      ],
      "execution_count": 823,
      "outputs": [
        {
          "output_type": "execute_result",
          "data": {
            "text/plain": [
              "array([[0.00674564],\n",
              "       [0.01417109],\n",
              "       [0.09555599],\n",
              "       [0.00547233],\n",
              "       [0.0253602 ]], dtype=float32)"
            ]
          },
          "metadata": {
            "tags": []
          },
          "execution_count": 823
        }
      ]
    },
    {
      "cell_type": "code",
      "metadata": {
        "id": "GlZey01ccc0d"
      },
      "source": [
        "y_preds = (y_preds > 0.75)"
      ],
      "execution_count": 824,
      "outputs": []
    },
    {
      "cell_type": "code",
      "metadata": {
        "colab": {
          "base_uri": "https://localhost:8080/"
        },
        "id": "r630gEHbcn7H",
        "outputId": "dbd5ebf8-5d79-4c8f-dbdc-93766f4203cf"
      },
      "source": [
        "y_preds[:5]"
      ],
      "execution_count": 825,
      "outputs": [
        {
          "output_type": "execute_result",
          "data": {
            "text/plain": [
              "array([[False],\n",
              "       [False],\n",
              "       [False],\n",
              "       [False],\n",
              "       [False]])"
            ]
          },
          "metadata": {
            "tags": []
          },
          "execution_count": 825
        }
      ]
    },
    {
      "cell_type": "code",
      "metadata": {
        "id": "AwG1s30wamQe"
      },
      "source": [
        "  from sklearn.metrics import confusion_matrix,accuracy_score"
      ],
      "execution_count": 826,
      "outputs": []
    },
    {
      "cell_type": "code",
      "metadata": {
        "colab": {
          "base_uri": "https://localhost:8080/"
        },
        "id": "ardb6tYkbNf3",
        "outputId": "3478d42e-0174-4574-c8c1-a127bc27bfb1"
      },
      "source": [
        "y_test"
      ],
      "execution_count": 827,
      "outputs": [
        {
          "output_type": "execute_result",
          "data": {
            "text/plain": [
              "4857    0\n",
              "3709    0\n",
              "964     0\n",
              "2971    0\n",
              "3262    0\n",
              "       ..\n",
              "1022    0\n",
              "205     1\n",
              "3838    0\n",
              "4524    0\n",
              "2049    0\n",
              "Name: stroke, Length: 982, dtype: int64"
            ]
          },
          "metadata": {
            "tags": []
          },
          "execution_count": 827
        }
      ]
    },
    {
      "cell_type": "code",
      "metadata": {
        "id": "Yl3LI6t-bGt9"
      },
      "source": [
        "cm = confusion_matrix(y_test,y_preds)"
      ],
      "execution_count": 828,
      "outputs": []
    },
    {
      "cell_type": "code",
      "metadata": {
        "colab": {
          "base_uri": "https://localhost:8080/"
        },
        "id": "FAsJ-QGlbLF1",
        "outputId": "4fb0ab3a-b12c-44c8-ac7b-81f2abeb5349"
      },
      "source": [
        "cm"
      ],
      "execution_count": 829,
      "outputs": [
        {
          "output_type": "execute_result",
          "data": {
            "text/plain": [
              "array([[929,   0],\n",
              "       [ 53,   0]])"
            ]
          },
          "metadata": {
            "tags": []
          },
          "execution_count": 829
        }
      ]
    },
    {
      "cell_type": "code",
      "metadata": {
        "colab": {
          "base_uri": "https://localhost:8080/"
        },
        "id": "le8DfR-Ycrk5",
        "outputId": "563bbc53-a1bd-4429-c97e-78144d6f08ac"
      },
      "source": [
        "accuracy_score(y_test,y_preds)"
      ],
      "execution_count": 830,
      "outputs": [
        {
          "output_type": "execute_result",
          "data": {
            "text/plain": [
              "0.9460285132382892"
            ]
          },
          "metadata": {
            "tags": []
          },
          "execution_count": 830
        }
      ]
    },
    {
      "cell_type": "markdown",
      "metadata": {
        "id": "XrGAMi-ldvhz"
      },
      "source": [
        "##With SMOTE"
      ]
    },
    {
      "cell_type": "markdown",
      "metadata": {
        "id": "lay71HwbqbBz"
      },
      "source": [
        "###Increase number of minority using SMOTE"
      ]
    },
    {
      "cell_type": "code",
      "metadata": {
        "colab": {
          "base_uri": "https://localhost:8080/"
        },
        "id": "D-F2NPlKpBDu",
        "outputId": "c7601cd4-e7d5-4901-e3b9-64ad257efb25"
      },
      "source": [
        "!pip install imbalanced-learn"
      ],
      "execution_count": 831,
      "outputs": [
        {
          "output_type": "stream",
          "text": [
            "Requirement already satisfied: imbalanced-learn in /usr/local/lib/python3.6/dist-packages (0.4.3)\n",
            "Requirement already satisfied: numpy>=1.8.2 in /usr/local/lib/python3.6/dist-packages (from imbalanced-learn) (1.19.5)\n",
            "Requirement already satisfied: scipy>=0.13.3 in /usr/local/lib/python3.6/dist-packages (from imbalanced-learn) (1.4.1)\n",
            "Requirement already satisfied: scikit-learn>=0.20 in /usr/local/lib/python3.6/dist-packages (from imbalanced-learn) (0.22.2.post1)\n",
            "Requirement already satisfied: joblib>=0.11 in /usr/local/lib/python3.6/dist-packages (from scikit-learn>=0.20->imbalanced-learn) (1.0.0)\n"
          ],
          "name": "stdout"
        }
      ]
    },
    {
      "cell_type": "code",
      "metadata": {
        "id": "B4sCZz_gpO-x"
      },
      "source": [
        "from imblearn.over_sampling import SMOTE"
      ],
      "execution_count": 832,
      "outputs": []
    },
    {
      "cell_type": "code",
      "metadata": {
        "colab": {
          "base_uri": "https://localhost:8080/"
        },
        "id": "G_NlTUSmplHx",
        "outputId": "18b05fd8-b3d1-4f7d-93f0-fde024316b67"
      },
      "source": [
        "print(np.count_nonzero(y==0))\r\n",
        "print(np.count_nonzero(y==1))"
      ],
      "execution_count": 833,
      "outputs": [
        {
          "output_type": "stream",
          "text": [
            "4699\n",
            "209\n"
          ],
          "name": "stdout"
        }
      ]
    },
    {
      "cell_type": "code",
      "metadata": {
        "colab": {
          "base_uri": "https://localhost:8080/"
        },
        "id": "uwk5aJ6cpT_g",
        "outputId": "c254c5de-6eca-4532-f3f6-9f2c36e91c20"
      },
      "source": [
        "sm = SMOTE(random_state=42)\r\n",
        "X_sm, y_sm = sm.fit_resample(X,y)"
      ],
      "execution_count": 834,
      "outputs": [
        {
          "output_type": "stream",
          "text": [
            "/usr/local/lib/python3.6/dist-packages/sklearn/utils/deprecation.py:87: FutureWarning: Function safe_indexing is deprecated; safe_indexing is deprecated in version 0.22 and will be removed in version 0.24.\n",
            "  warnings.warn(msg, category=FutureWarning)\n"
          ],
          "name": "stderr"
        }
      ]
    },
    {
      "cell_type": "code",
      "metadata": {
        "colab": {
          "base_uri": "https://localhost:8080/"
        },
        "id": "JuGXtQeTqFHL",
        "outputId": "31652684-3dbe-43ed-b853-2e3acb827549"
      },
      "source": [
        "X.shape,X_sm.shape,y.shape,y_sm.shape"
      ],
      "execution_count": 835,
      "outputs": [
        {
          "output_type": "execute_result",
          "data": {
            "text/plain": [
              "((4908, 17), (9398, 17), (4908,), (9398,))"
            ]
          },
          "metadata": {
            "tags": []
          },
          "execution_count": 835
        }
      ]
    },
    {
      "cell_type": "code",
      "metadata": {
        "colab": {
          "base_uri": "https://localhost:8080/"
        },
        "id": "rRiuGcgQqNn8",
        "outputId": "7030d15f-99fc-4f75-9f1b-78a4cdb6ffd9"
      },
      "source": [
        "print(np.count_nonzero(y_sm==0))\r\n",
        "print(np.count_nonzero(y_sm==1))"
      ],
      "execution_count": 836,
      "outputs": [
        {
          "output_type": "stream",
          "text": [
            "4699\n",
            "4699\n"
          ],
          "name": "stdout"
        }
      ]
    },
    {
      "cell_type": "markdown",
      "metadata": {
        "id": "xIFzhGmLqVP4"
      },
      "source": [
        "###Split data into training and validation sets"
      ]
    },
    {
      "cell_type": "code",
      "metadata": {
        "id": "pxDcC7CvrTuO"
      },
      "source": [
        "X_train,X_test,y_train,y_test = train_test_split(X_sm,y_sm,test_size=0.2,random_state=42)"
      ],
      "execution_count": 837,
      "outputs": []
    },
    {
      "cell_type": "code",
      "metadata": {
        "colab": {
          "base_uri": "https://localhost:8080/"
        },
        "id": "Hub16jV1raSD",
        "outputId": "5dc07625-04c6-446e-dc6c-383f2c2878ab"
      },
      "source": [
        "X_train.shape,X_test.shape,y_train.shape,y_test.shape"
      ],
      "execution_count": 838,
      "outputs": [
        {
          "output_type": "execute_result",
          "data": {
            "text/plain": [
              "((7518, 17), (1880, 17), (7518,), (1880,))"
            ]
          },
          "metadata": {
            "tags": []
          },
          "execution_count": 838
        }
      ]
    },
    {
      "cell_type": "markdown",
      "metadata": {
        "id": "-xD6SQhRrnau"
      },
      "source": [
        "###Create ANN"
      ]
    },
    {
      "cell_type": "code",
      "metadata": {
        "id": "18XEvGZbrtv7"
      },
      "source": [
        "#Create ANN\r\n",
        "ann_smote = Sequential([\r\n",
        "                  Dense(units=5, activation=\"relu\"),\r\n",
        "                  Dense(units=1, activation=\"sigmoid\")\r\n",
        "])"
      ],
      "execution_count": 839,
      "outputs": []
    },
    {
      "cell_type": "code",
      "metadata": {
        "id": "iu4dowfJrtwD"
      },
      "source": [
        "#compile ANN\r\n",
        "ann_smote.compile(optimizer=\"adam\",loss=\"binary_crossentropy\",metrics=[\"accuracy\"])"
      ],
      "execution_count": 840,
      "outputs": []
    },
    {
      "cell_type": "markdown",
      "metadata": {
        "id": "vK1fa0s3rtwD"
      },
      "source": [
        "###Train ANN"
      ]
    },
    {
      "cell_type": "code",
      "metadata": {
        "colab": {
          "base_uri": "https://localhost:8080/"
        },
        "id": "I2rJMRH-rtwE",
        "outputId": "b73fc9c8-ae19-4845-b40e-426bd1328dff"
      },
      "source": [
        "ann_smote.fit(x=X_train,y=y_train,batch_size=32,epochs=100,verbose=2)"
      ],
      "execution_count": 841,
      "outputs": [
        {
          "output_type": "stream",
          "text": [
            "Epoch 1/100\n",
            "235/235 - 1s - loss: 0.6803 - accuracy: 0.5680\n",
            "Epoch 2/100\n",
            "235/235 - 0s - loss: 0.6154 - accuracy: 0.7018\n",
            "Epoch 3/100\n",
            "235/235 - 0s - loss: 0.5672 - accuracy: 0.7317\n",
            "Epoch 4/100\n",
            "235/235 - 0s - loss: 0.5377 - accuracy: 0.7525\n",
            "Epoch 5/100\n",
            "235/235 - 0s - loss: 0.5190 - accuracy: 0.7675\n",
            "Epoch 6/100\n",
            "235/235 - 0s - loss: 0.5061 - accuracy: 0.7729\n",
            "Epoch 7/100\n",
            "235/235 - 0s - loss: 0.4956 - accuracy: 0.7793\n",
            "Epoch 8/100\n",
            "235/235 - 0s - loss: 0.4877 - accuracy: 0.7811\n",
            "Epoch 9/100\n",
            "235/235 - 0s - loss: 0.4810 - accuracy: 0.7840\n",
            "Epoch 10/100\n",
            "235/235 - 0s - loss: 0.4753 - accuracy: 0.7873\n",
            "Epoch 11/100\n",
            "235/235 - 0s - loss: 0.4709 - accuracy: 0.7860\n",
            "Epoch 12/100\n",
            "235/235 - 0s - loss: 0.4669 - accuracy: 0.7873\n",
            "Epoch 13/100\n",
            "235/235 - 0s - loss: 0.4637 - accuracy: 0.7888\n",
            "Epoch 14/100\n",
            "235/235 - 0s - loss: 0.4616 - accuracy: 0.7897\n",
            "Epoch 15/100\n",
            "235/235 - 0s - loss: 0.4596 - accuracy: 0.7877\n",
            "Epoch 16/100\n",
            "235/235 - 0s - loss: 0.4581 - accuracy: 0.7902\n",
            "Epoch 17/100\n",
            "235/235 - 0s - loss: 0.4563 - accuracy: 0.7921\n",
            "Epoch 18/100\n",
            "235/235 - 0s - loss: 0.4557 - accuracy: 0.7906\n",
            "Epoch 19/100\n",
            "235/235 - 0s - loss: 0.4546 - accuracy: 0.7900\n",
            "Epoch 20/100\n",
            "235/235 - 0s - loss: 0.4539 - accuracy: 0.7898\n",
            "Epoch 21/100\n",
            "235/235 - 0s - loss: 0.4532 - accuracy: 0.7902\n",
            "Epoch 22/100\n",
            "235/235 - 0s - loss: 0.4532 - accuracy: 0.7892\n",
            "Epoch 23/100\n",
            "235/235 - 0s - loss: 0.4524 - accuracy: 0.7914\n",
            "Epoch 24/100\n",
            "235/235 - 0s - loss: 0.4520 - accuracy: 0.7913\n",
            "Epoch 25/100\n",
            "235/235 - 0s - loss: 0.4514 - accuracy: 0.7906\n",
            "Epoch 26/100\n",
            "235/235 - 0s - loss: 0.4509 - accuracy: 0.7922\n",
            "Epoch 27/100\n",
            "235/235 - 0s - loss: 0.4505 - accuracy: 0.7926\n",
            "Epoch 28/100\n",
            "235/235 - 0s - loss: 0.4505 - accuracy: 0.7934\n",
            "Epoch 29/100\n",
            "235/235 - 0s - loss: 0.4499 - accuracy: 0.7909\n",
            "Epoch 30/100\n",
            "235/235 - 0s - loss: 0.4495 - accuracy: 0.7918\n",
            "Epoch 31/100\n",
            "235/235 - 0s - loss: 0.4488 - accuracy: 0.7946\n",
            "Epoch 32/100\n",
            "235/235 - 0s - loss: 0.4486 - accuracy: 0.7910\n",
            "Epoch 33/100\n",
            "235/235 - 0s - loss: 0.4477 - accuracy: 0.7909\n",
            "Epoch 34/100\n",
            "235/235 - 0s - loss: 0.4473 - accuracy: 0.7922\n",
            "Epoch 35/100\n",
            "235/235 - 0s - loss: 0.4471 - accuracy: 0.7948\n",
            "Epoch 36/100\n",
            "235/235 - 0s - loss: 0.4467 - accuracy: 0.7925\n",
            "Epoch 37/100\n",
            "235/235 - 0s - loss: 0.4465 - accuracy: 0.7908\n",
            "Epoch 38/100\n",
            "235/235 - 0s - loss: 0.4469 - accuracy: 0.7914\n",
            "Epoch 39/100\n",
            "235/235 - 0s - loss: 0.4459 - accuracy: 0.7908\n",
            "Epoch 40/100\n",
            "235/235 - 0s - loss: 0.4459 - accuracy: 0.7925\n",
            "Epoch 41/100\n",
            "235/235 - 0s - loss: 0.4455 - accuracy: 0.7920\n",
            "Epoch 42/100\n",
            "235/235 - 0s - loss: 0.4456 - accuracy: 0.7912\n",
            "Epoch 43/100\n",
            "235/235 - 0s - loss: 0.4453 - accuracy: 0.7917\n",
            "Epoch 44/100\n",
            "235/235 - 0s - loss: 0.4450 - accuracy: 0.7925\n",
            "Epoch 45/100\n",
            "235/235 - 0s - loss: 0.4446 - accuracy: 0.7926\n",
            "Epoch 46/100\n",
            "235/235 - 0s - loss: 0.4446 - accuracy: 0.7941\n",
            "Epoch 47/100\n",
            "235/235 - 0s - loss: 0.4446 - accuracy: 0.7920\n",
            "Epoch 48/100\n",
            "235/235 - 0s - loss: 0.4442 - accuracy: 0.7912\n",
            "Epoch 49/100\n",
            "235/235 - 0s - loss: 0.4437 - accuracy: 0.7938\n",
            "Epoch 50/100\n",
            "235/235 - 0s - loss: 0.4434 - accuracy: 0.7930\n",
            "Epoch 51/100\n",
            "235/235 - 0s - loss: 0.4431 - accuracy: 0.7924\n",
            "Epoch 52/100\n",
            "235/235 - 0s - loss: 0.4433 - accuracy: 0.7934\n",
            "Epoch 53/100\n",
            "235/235 - 0s - loss: 0.4432 - accuracy: 0.7944\n",
            "Epoch 54/100\n",
            "235/235 - 0s - loss: 0.4429 - accuracy: 0.7929\n",
            "Epoch 55/100\n",
            "235/235 - 0s - loss: 0.4424 - accuracy: 0.7930\n",
            "Epoch 56/100\n",
            "235/235 - 0s - loss: 0.4426 - accuracy: 0.7933\n",
            "Epoch 57/100\n",
            "235/235 - 0s - loss: 0.4424 - accuracy: 0.7940\n",
            "Epoch 58/100\n",
            "235/235 - 0s - loss: 0.4426 - accuracy: 0.7916\n",
            "Epoch 59/100\n",
            "235/235 - 0s - loss: 0.4421 - accuracy: 0.7930\n",
            "Epoch 60/100\n",
            "235/235 - 0s - loss: 0.4419 - accuracy: 0.7936\n",
            "Epoch 61/100\n",
            "235/235 - 0s - loss: 0.4415 - accuracy: 0.7938\n",
            "Epoch 62/100\n",
            "235/235 - 0s - loss: 0.4417 - accuracy: 0.7946\n",
            "Epoch 63/100\n",
            "235/235 - 0s - loss: 0.4412 - accuracy: 0.7944\n",
            "Epoch 64/100\n",
            "235/235 - 0s - loss: 0.4414 - accuracy: 0.7920\n",
            "Epoch 65/100\n",
            "235/235 - 0s - loss: 0.4411 - accuracy: 0.7942\n",
            "Epoch 66/100\n",
            "235/235 - 0s - loss: 0.4411 - accuracy: 0.7936\n",
            "Epoch 67/100\n",
            "235/235 - 0s - loss: 0.4408 - accuracy: 0.7936\n",
            "Epoch 68/100\n",
            "235/235 - 0s - loss: 0.4407 - accuracy: 0.7952\n",
            "Epoch 69/100\n",
            "235/235 - 0s - loss: 0.4406 - accuracy: 0.7937\n",
            "Epoch 70/100\n",
            "235/235 - 0s - loss: 0.4403 - accuracy: 0.7942\n",
            "Epoch 71/100\n",
            "235/235 - 0s - loss: 0.4404 - accuracy: 0.7941\n",
            "Epoch 72/100\n",
            "235/235 - 0s - loss: 0.4405 - accuracy: 0.7952\n",
            "Epoch 73/100\n",
            "235/235 - 0s - loss: 0.4404 - accuracy: 0.7970\n",
            "Epoch 74/100\n",
            "235/235 - 0s - loss: 0.4400 - accuracy: 0.7953\n",
            "Epoch 75/100\n",
            "235/235 - 0s - loss: 0.4396 - accuracy: 0.7954\n",
            "Epoch 76/100\n",
            "235/235 - 0s - loss: 0.4397 - accuracy: 0.7942\n",
            "Epoch 77/100\n",
            "235/235 - 0s - loss: 0.4395 - accuracy: 0.7957\n",
            "Epoch 78/100\n",
            "235/235 - 0s - loss: 0.4402 - accuracy: 0.7944\n",
            "Epoch 79/100\n",
            "235/235 - 0s - loss: 0.4397 - accuracy: 0.7966\n",
            "Epoch 80/100\n",
            "235/235 - 0s - loss: 0.4398 - accuracy: 0.7958\n",
            "Epoch 81/100\n",
            "235/235 - 0s - loss: 0.4393 - accuracy: 0.7956\n",
            "Epoch 82/100\n",
            "235/235 - 0s - loss: 0.4391 - accuracy: 0.7960\n",
            "Epoch 83/100\n",
            "235/235 - 0s - loss: 0.4392 - accuracy: 0.7957\n",
            "Epoch 84/100\n",
            "235/235 - 0s - loss: 0.4391 - accuracy: 0.7957\n",
            "Epoch 85/100\n",
            "235/235 - 0s - loss: 0.4389 - accuracy: 0.7968\n",
            "Epoch 86/100\n",
            "235/235 - 0s - loss: 0.4387 - accuracy: 0.7964\n",
            "Epoch 87/100\n",
            "235/235 - 0s - loss: 0.4389 - accuracy: 0.7972\n",
            "Epoch 88/100\n",
            "235/235 - 0s - loss: 0.4388 - accuracy: 0.7961\n",
            "Epoch 89/100\n",
            "235/235 - 0s - loss: 0.4388 - accuracy: 0.7961\n",
            "Epoch 90/100\n",
            "235/235 - 0s - loss: 0.4382 - accuracy: 0.7973\n",
            "Epoch 91/100\n",
            "235/235 - 0s - loss: 0.4384 - accuracy: 0.7958\n",
            "Epoch 92/100\n",
            "235/235 - 0s - loss: 0.4384 - accuracy: 0.7974\n",
            "Epoch 93/100\n",
            "235/235 - 0s - loss: 0.4381 - accuracy: 0.7980\n",
            "Epoch 94/100\n",
            "235/235 - 0s - loss: 0.4383 - accuracy: 0.7989\n",
            "Epoch 95/100\n",
            "235/235 - 0s - loss: 0.4382 - accuracy: 0.7974\n",
            "Epoch 96/100\n",
            "235/235 - 0s - loss: 0.4371 - accuracy: 0.7993\n",
            "Epoch 97/100\n",
            "235/235 - 0s - loss: 0.4377 - accuracy: 0.7986\n",
            "Epoch 98/100\n",
            "235/235 - 0s - loss: 0.4379 - accuracy: 0.7978\n",
            "Epoch 99/100\n",
            "235/235 - 0s - loss: 0.4377 - accuracy: 0.7969\n",
            "Epoch 100/100\n",
            "235/235 - 0s - loss: 0.4377 - accuracy: 0.7969\n"
          ],
          "name": "stdout"
        },
        {
          "output_type": "execute_result",
          "data": {
            "text/plain": [
              "<tensorflow.python.keras.callbacks.History at 0x7f10f46e0668>"
            ]
          },
          "metadata": {
            "tags": []
          },
          "execution_count": 841
        }
      ]
    },
    {
      "cell_type": "markdown",
      "metadata": {
        "id": "AMpNtCrVr8Ur"
      },
      "source": [
        "###Evaluate model"
      ]
    },
    {
      "cell_type": "markdown",
      "metadata": {
        "id": "jGDKUWfUr8Us"
      },
      "source": [
        "###Confusion matrix"
      ]
    },
    {
      "cell_type": "code",
      "metadata": {
        "id": "90ltypEjr8Ut"
      },
      "source": [
        "y_preds = ann_smote.predict(X_test)"
      ],
      "execution_count": 842,
      "outputs": []
    },
    {
      "cell_type": "code",
      "metadata": {
        "colab": {
          "base_uri": "https://localhost:8080/"
        },
        "id": "L-IxdtmSr8Ut",
        "outputId": "c653dfa4-657b-4f8c-a9bc-0c33c4c2e5a7"
      },
      "source": [
        "y_preds[:5]"
      ],
      "execution_count": 843,
      "outputs": [
        {
          "output_type": "execute_result",
          "data": {
            "text/plain": [
              "array([[0.5890298 ],\n",
              "       [0.02795425],\n",
              "       [0.20572731],\n",
              "       [0.90700805],\n",
              "       [0.03451711]], dtype=float32)"
            ]
          },
          "metadata": {
            "tags": []
          },
          "execution_count": 843
        }
      ]
    },
    {
      "cell_type": "code",
      "metadata": {
        "id": "kJvpa_qer8Uu"
      },
      "source": [
        "y_preds = (y_preds > 0.75)"
      ],
      "execution_count": 844,
      "outputs": []
    },
    {
      "cell_type": "code",
      "metadata": {
        "colab": {
          "base_uri": "https://localhost:8080/"
        },
        "id": "-UfORGVyr8Uv",
        "outputId": "78d65336-3777-41ed-95b0-f867554a7a08"
      },
      "source": [
        "y_preds[:5]"
      ],
      "execution_count": 845,
      "outputs": [
        {
          "output_type": "execute_result",
          "data": {
            "text/plain": [
              "array([[False],\n",
              "       [False],\n",
              "       [False],\n",
              "       [ True],\n",
              "       [False]])"
            ]
          },
          "metadata": {
            "tags": []
          },
          "execution_count": 845
        }
      ]
    },
    {
      "cell_type": "code",
      "metadata": {
        "id": "d3SC_rH2r8Uw"
      },
      "source": [
        "  from sklearn.metrics import confusion_matrix,accuracy_score"
      ],
      "execution_count": 846,
      "outputs": []
    },
    {
      "cell_type": "code",
      "metadata": {
        "colab": {
          "base_uri": "https://localhost:8080/"
        },
        "id": "Qr4CbH53r8Uw",
        "outputId": "361ca692-1d9f-4bc9-f34f-4b6a3d80b1f1"
      },
      "source": [
        "y_test"
      ],
      "execution_count": 847,
      "outputs": [
        {
          "output_type": "execute_result",
          "data": {
            "text/plain": [
              "array([0, 0, 0, ..., 0, 0, 1])"
            ]
          },
          "metadata": {
            "tags": []
          },
          "execution_count": 847
        }
      ]
    },
    {
      "cell_type": "code",
      "metadata": {
        "id": "RhAwbyUlr8Uw"
      },
      "source": [
        "cm = confusion_matrix(y_test,y_preds)"
      ],
      "execution_count": 848,
      "outputs": []
    },
    {
      "cell_type": "code",
      "metadata": {
        "colab": {
          "base_uri": "https://localhost:8080/"
        },
        "id": "RmI-Zk4dr8Ux",
        "outputId": "dd7ee245-a1dc-48cf-8ab8-c24c44046f95"
      },
      "source": [
        "cm"
      ],
      "execution_count": 849,
      "outputs": [
        {
          "output_type": "execute_result",
          "data": {
            "text/plain": [
              "array([[815, 107],\n",
              "       [401, 557]])"
            ]
          },
          "metadata": {
            "tags": []
          },
          "execution_count": 849
        }
      ]
    },
    {
      "cell_type": "code",
      "metadata": {
        "colab": {
          "base_uri": "https://localhost:8080/"
        },
        "id": "cP8zT0n0r8Uy",
        "outputId": "25f1201c-f034-4d5a-9591-82974fee47b6"
      },
      "source": [
        "accuracy_score(y_test,y_preds)"
      ],
      "execution_count": 850,
      "outputs": [
        {
          "output_type": "execute_result",
          "data": {
            "text/plain": [
              "0.7297872340425532"
            ]
          },
          "metadata": {
            "tags": []
          },
          "execution_count": 850
        }
      ]
    },
    {
      "cell_type": "markdown",
      "metadata": {
        "id": "wkio8hV3saCS"
      },
      "source": [
        "#Third model\r\n",
        "\r\n",
        "To make the model more accessible to people who don't know their average_glucose_level, I will create a model without that label. This is also a fun lille project to see how important the average_glucose_level actually is.\r\n",
        "\r\n",
        "The data will be loaded, and the model will be processed the exact same way. The ANN architecture will also be the same, with the same hyperparameters during training and compiling"
      ]
    },
    {
      "cell_type": "code",
      "metadata": {
        "colab": {
          "base_uri": "https://localhost:8080/",
          "height": 212
        },
        "id": "7P36dEa3vuIu",
        "outputId": "938b88d3-1c73-43e9-c122-dec863d657dd"
      },
      "source": [
        "df.head()"
      ],
      "execution_count": 851,
      "outputs": [
        {
          "output_type": "execute_result",
          "data": {
            "text/html": [
              "<div>\n",
              "<style scoped>\n",
              "    .dataframe tbody tr th:only-of-type {\n",
              "        vertical-align: middle;\n",
              "    }\n",
              "\n",
              "    .dataframe tbody tr th {\n",
              "        vertical-align: top;\n",
              "    }\n",
              "\n",
              "    .dataframe thead th {\n",
              "        text-align: right;\n",
              "    }\n",
              "</style>\n",
              "<table border=\"1\" class=\"dataframe\">\n",
              "  <thead>\n",
              "    <tr style=\"text-align: right;\">\n",
              "      <th></th>\n",
              "      <th>gender</th>\n",
              "      <th>age</th>\n",
              "      <th>hypertension</th>\n",
              "      <th>heart_disease</th>\n",
              "      <th>ever_married</th>\n",
              "      <th>work_type</th>\n",
              "      <th>Residence_type</th>\n",
              "      <th>avg_glucose_level</th>\n",
              "      <th>bmi</th>\n",
              "      <th>smoking_status</th>\n",
              "      <th>stroke</th>\n",
              "    </tr>\n",
              "  </thead>\n",
              "  <tbody>\n",
              "    <tr>\n",
              "      <th>0</th>\n",
              "      <td>Male</td>\n",
              "      <td>67.0</td>\n",
              "      <td>0</td>\n",
              "      <td>1</td>\n",
              "      <td>Yes</td>\n",
              "      <td>Private</td>\n",
              "      <td>Urban</td>\n",
              "      <td>228.69</td>\n",
              "      <td>36.6</td>\n",
              "      <td>formerly smoked</td>\n",
              "      <td>1</td>\n",
              "    </tr>\n",
              "    <tr>\n",
              "      <th>2</th>\n",
              "      <td>Male</td>\n",
              "      <td>80.0</td>\n",
              "      <td>0</td>\n",
              "      <td>1</td>\n",
              "      <td>Yes</td>\n",
              "      <td>Private</td>\n",
              "      <td>Rural</td>\n",
              "      <td>105.92</td>\n",
              "      <td>32.5</td>\n",
              "      <td>never smoked</td>\n",
              "      <td>1</td>\n",
              "    </tr>\n",
              "    <tr>\n",
              "      <th>3</th>\n",
              "      <td>Female</td>\n",
              "      <td>49.0</td>\n",
              "      <td>0</td>\n",
              "      <td>0</td>\n",
              "      <td>Yes</td>\n",
              "      <td>Private</td>\n",
              "      <td>Urban</td>\n",
              "      <td>171.23</td>\n",
              "      <td>34.4</td>\n",
              "      <td>smokes</td>\n",
              "      <td>1</td>\n",
              "    </tr>\n",
              "    <tr>\n",
              "      <th>4</th>\n",
              "      <td>Female</td>\n",
              "      <td>79.0</td>\n",
              "      <td>1</td>\n",
              "      <td>0</td>\n",
              "      <td>Yes</td>\n",
              "      <td>Self-employed</td>\n",
              "      <td>Rural</td>\n",
              "      <td>174.12</td>\n",
              "      <td>24.0</td>\n",
              "      <td>never smoked</td>\n",
              "      <td>1</td>\n",
              "    </tr>\n",
              "    <tr>\n",
              "      <th>5</th>\n",
              "      <td>Male</td>\n",
              "      <td>81.0</td>\n",
              "      <td>0</td>\n",
              "      <td>0</td>\n",
              "      <td>Yes</td>\n",
              "      <td>Private</td>\n",
              "      <td>Urban</td>\n",
              "      <td>186.21</td>\n",
              "      <td>29.0</td>\n",
              "      <td>formerly smoked</td>\n",
              "      <td>1</td>\n",
              "    </tr>\n",
              "  </tbody>\n",
              "</table>\n",
              "</div>"
            ],
            "text/plain": [
              "   gender   age  hypertension  ...   bmi   smoking_status stroke\n",
              "0    Male  67.0             0  ...  36.6  formerly smoked      1\n",
              "2    Male  80.0             0  ...  32.5     never smoked      1\n",
              "3  Female  49.0             0  ...  34.4           smokes      1\n",
              "4  Female  79.0             1  ...  24.0     never smoked      1\n",
              "5    Male  81.0             0  ...  29.0  formerly smoked      1\n",
              "\n",
              "[5 rows x 11 columns]"
            ]
          },
          "metadata": {
            "tags": []
          },
          "execution_count": 851
        }
      ]
    },
    {
      "cell_type": "code",
      "metadata": {
        "id": "MNCQNpQywHac"
      },
      "source": [
        "df = df.drop(\"avg_glucose_level\",axis=1)"
      ],
      "execution_count": 852,
      "outputs": []
    },
    {
      "cell_type": "code",
      "metadata": {
        "id": "9NtvWYvxwRxD"
      },
      "source": [
        ""
      ],
      "execution_count": 852,
      "outputs": []
    },
    {
      "cell_type": "markdown",
      "metadata": {
        "id": "p8MaTUclwbE9"
      },
      "source": [
        "##Split data into X and y"
      ]
    },
    {
      "cell_type": "code",
      "metadata": {
        "id": "BAxR0-6rwbFB"
      },
      "source": [
        "X = df.drop(\"stroke\",axis=1)\r\n",
        "y=df[\"stroke\"]"
      ],
      "execution_count": 853,
      "outputs": []
    },
    {
      "cell_type": "code",
      "metadata": {
        "colab": {
          "base_uri": "https://localhost:8080/",
          "height": 195
        },
        "id": "G5EL_9W-wbFC",
        "outputId": "154c6df5-bf5d-4da9-f5aa-11449ddcb408"
      },
      "source": [
        "X[:5]"
      ],
      "execution_count": 854,
      "outputs": [
        {
          "output_type": "execute_result",
          "data": {
            "text/html": [
              "<div>\n",
              "<style scoped>\n",
              "    .dataframe tbody tr th:only-of-type {\n",
              "        vertical-align: middle;\n",
              "    }\n",
              "\n",
              "    .dataframe tbody tr th {\n",
              "        vertical-align: top;\n",
              "    }\n",
              "\n",
              "    .dataframe thead th {\n",
              "        text-align: right;\n",
              "    }\n",
              "</style>\n",
              "<table border=\"1\" class=\"dataframe\">\n",
              "  <thead>\n",
              "    <tr style=\"text-align: right;\">\n",
              "      <th></th>\n",
              "      <th>gender</th>\n",
              "      <th>age</th>\n",
              "      <th>hypertension</th>\n",
              "      <th>heart_disease</th>\n",
              "      <th>ever_married</th>\n",
              "      <th>work_type</th>\n",
              "      <th>Residence_type</th>\n",
              "      <th>bmi</th>\n",
              "      <th>smoking_status</th>\n",
              "    </tr>\n",
              "  </thead>\n",
              "  <tbody>\n",
              "    <tr>\n",
              "      <th>0</th>\n",
              "      <td>Male</td>\n",
              "      <td>67.0</td>\n",
              "      <td>0</td>\n",
              "      <td>1</td>\n",
              "      <td>Yes</td>\n",
              "      <td>Private</td>\n",
              "      <td>Urban</td>\n",
              "      <td>36.6</td>\n",
              "      <td>formerly smoked</td>\n",
              "    </tr>\n",
              "    <tr>\n",
              "      <th>2</th>\n",
              "      <td>Male</td>\n",
              "      <td>80.0</td>\n",
              "      <td>0</td>\n",
              "      <td>1</td>\n",
              "      <td>Yes</td>\n",
              "      <td>Private</td>\n",
              "      <td>Rural</td>\n",
              "      <td>32.5</td>\n",
              "      <td>never smoked</td>\n",
              "    </tr>\n",
              "    <tr>\n",
              "      <th>3</th>\n",
              "      <td>Female</td>\n",
              "      <td>49.0</td>\n",
              "      <td>0</td>\n",
              "      <td>0</td>\n",
              "      <td>Yes</td>\n",
              "      <td>Private</td>\n",
              "      <td>Urban</td>\n",
              "      <td>34.4</td>\n",
              "      <td>smokes</td>\n",
              "    </tr>\n",
              "    <tr>\n",
              "      <th>4</th>\n",
              "      <td>Female</td>\n",
              "      <td>79.0</td>\n",
              "      <td>1</td>\n",
              "      <td>0</td>\n",
              "      <td>Yes</td>\n",
              "      <td>Self-employed</td>\n",
              "      <td>Rural</td>\n",
              "      <td>24.0</td>\n",
              "      <td>never smoked</td>\n",
              "    </tr>\n",
              "    <tr>\n",
              "      <th>5</th>\n",
              "      <td>Male</td>\n",
              "      <td>81.0</td>\n",
              "      <td>0</td>\n",
              "      <td>0</td>\n",
              "      <td>Yes</td>\n",
              "      <td>Private</td>\n",
              "      <td>Urban</td>\n",
              "      <td>29.0</td>\n",
              "      <td>formerly smoked</td>\n",
              "    </tr>\n",
              "  </tbody>\n",
              "</table>\n",
              "</div>"
            ],
            "text/plain": [
              "   gender   age  hypertension  ...  Residence_type   bmi   smoking_status\n",
              "0    Male  67.0             0  ...           Urban  36.6  formerly smoked\n",
              "2    Male  80.0             0  ...           Rural  32.5     never smoked\n",
              "3  Female  49.0             0  ...           Urban  34.4           smokes\n",
              "4  Female  79.0             1  ...           Rural  24.0     never smoked\n",
              "5    Male  81.0             0  ...           Urban  29.0  formerly smoked\n",
              "\n",
              "[5 rows x 9 columns]"
            ]
          },
          "metadata": {
            "tags": []
          },
          "execution_count": 854
        }
      ]
    },
    {
      "cell_type": "code",
      "metadata": {
        "colab": {
          "base_uri": "https://localhost:8080/"
        },
        "id": "jrJ8PcmdwbFD",
        "outputId": "ccffbbcc-c675-45bc-b063-c3cf59957ea9"
      },
      "source": [
        "y[:5]"
      ],
      "execution_count": 855,
      "outputs": [
        {
          "output_type": "execute_result",
          "data": {
            "text/plain": [
              "0    1\n",
              "2    1\n",
              "3    1\n",
              "4    1\n",
              "5    1\n",
              "Name: stroke, dtype: int64"
            ]
          },
          "metadata": {
            "tags": []
          },
          "execution_count": 855
        }
      ]
    },
    {
      "cell_type": "markdown",
      "metadata": {
        "id": "wAdXiXfTwbFD"
      },
      "source": [
        "##Deal with non-numerical values\r\n",
        "\r\n",
        "As shown below, we have the following columns which fall under the \"object\" datatype:\r\n",
        "\r\n",
        "- gender\r\n",
        "- ever_married\r\n",
        "- work_type\r\n",
        "- Residence_type\r\n",
        "- smoking_status\r\n",
        "\r\n",
        "Depending on the value_counts() for each feature, I will either use label encoding on the features with binary-values or one-hot encoding on the features with multiple values."
      ]
    },
    {
      "cell_type": "code",
      "metadata": {
        "id": "7Qb5OtxCwbFE"
      },
      "source": [
        "object_columns = [\"gender\",\"ever_married\",\"work_type\",\"Residence_type\",\"smoking_status\"]\r\n",
        "binary_features = []\r\n",
        "multiple_features = []\r\n",
        "\r\n",
        "for column in object_columns:\r\n",
        "  if len(df[column].value_counts()) == 2:\r\n",
        "    binary_features.append(column)\r\n",
        "  else:\r\n",
        "    multiple_features.append(column)"
      ],
      "execution_count": 856,
      "outputs": []
    },
    {
      "cell_type": "code",
      "metadata": {
        "colab": {
          "base_uri": "https://localhost:8080/"
        },
        "id": "YvpL7dyAwbFE",
        "outputId": "231d0d8d-9398-4087-8d86-1f303f1bee5b"
      },
      "source": [
        "binary_features"
      ],
      "execution_count": 857,
      "outputs": [
        {
          "output_type": "execute_result",
          "data": {
            "text/plain": [
              "['gender', 'ever_married', 'Residence_type']"
            ]
          },
          "metadata": {
            "tags": []
          },
          "execution_count": 857
        }
      ]
    },
    {
      "cell_type": "code",
      "metadata": {
        "colab": {
          "base_uri": "https://localhost:8080/"
        },
        "id": "yfOAkNgdwbFE",
        "outputId": "bc29d4e8-8315-415b-e012-74f092352fb5"
      },
      "source": [
        "multiple_features"
      ],
      "execution_count": 858,
      "outputs": [
        {
          "output_type": "execute_result",
          "data": {
            "text/plain": [
              "['work_type', 'smoking_status']"
            ]
          },
          "metadata": {
            "tags": []
          },
          "execution_count": 858
        }
      ]
    },
    {
      "cell_type": "markdown",
      "metadata": {
        "id": "o70psnUCwbFE"
      },
      "source": [
        "###Label Encoding\r\n",
        "\r\n",
        "**Label encoding will be done on the binary columns:**<br>\r\n",
        "- gender\r\n",
        "- ever_married\r\n",
        "- residence_type\r\n"
      ]
    },
    {
      "cell_type": "code",
      "metadata": {
        "id": "S5JQzGDawbFF"
      },
      "source": [
        "from sklearn.preprocessing import LabelEncoder, OneHotEncoder\r\n",
        "from sklearn.compose import ColumnTransformer"
      ],
      "execution_count": 859,
      "outputs": []
    },
    {
      "cell_type": "code",
      "metadata": {
        "colab": {
          "base_uri": "https://localhost:8080/"
        },
        "id": "7mG89yt8wbFF",
        "outputId": "59c26c8c-8b0f-4e7b-d0e6-4221a82c06f9"
      },
      "source": [
        " binary_features"
      ],
      "execution_count": 860,
      "outputs": [
        {
          "output_type": "execute_result",
          "data": {
            "text/plain": [
              "['gender', 'ever_married', 'Residence_type']"
            ]
          },
          "metadata": {
            "tags": []
          },
          "execution_count": 860
        }
      ]
    },
    {
      "cell_type": "code",
      "metadata": {
        "id": "no9fOw4-wbFF"
      },
      "source": [
        "gender_label_encoder = LabelEncoder()\r\n",
        "ever_married_label_encoder = LabelEncoder()\r\n",
        "residence_type_label_encoder = LabelEncoder()"
      ],
      "execution_count": 861,
      "outputs": []
    },
    {
      "cell_type": "code",
      "metadata": {
        "id": "mifpujAwwbFF"
      },
      "source": [
        "X[\"gender\"] = gender_label_encoder.fit_transform(X[\"gender\"])\r\n",
        "X[\"ever_married\"] = ever_married_label_encoder.fit_transform(X[\"ever_married\"])\r\n",
        "X[\"Residence_type\"] = residence_type_label_encoder.fit_transform(X[\"Residence_type\"])"
      ],
      "execution_count": 862,
      "outputs": []
    },
    {
      "cell_type": "code",
      "metadata": {
        "colab": {
          "base_uri": "https://localhost:8080/",
          "height": 195
        },
        "id": "qXU84TZswbFG",
        "outputId": "f165b905-9077-4c45-91fa-1923bbb972a6"
      },
      "source": [
        "X.head()"
      ],
      "execution_count": 863,
      "outputs": [
        {
          "output_type": "execute_result",
          "data": {
            "text/html": [
              "<div>\n",
              "<style scoped>\n",
              "    .dataframe tbody tr th:only-of-type {\n",
              "        vertical-align: middle;\n",
              "    }\n",
              "\n",
              "    .dataframe tbody tr th {\n",
              "        vertical-align: top;\n",
              "    }\n",
              "\n",
              "    .dataframe thead th {\n",
              "        text-align: right;\n",
              "    }\n",
              "</style>\n",
              "<table border=\"1\" class=\"dataframe\">\n",
              "  <thead>\n",
              "    <tr style=\"text-align: right;\">\n",
              "      <th></th>\n",
              "      <th>gender</th>\n",
              "      <th>age</th>\n",
              "      <th>hypertension</th>\n",
              "      <th>heart_disease</th>\n",
              "      <th>ever_married</th>\n",
              "      <th>work_type</th>\n",
              "      <th>Residence_type</th>\n",
              "      <th>bmi</th>\n",
              "      <th>smoking_status</th>\n",
              "    </tr>\n",
              "  </thead>\n",
              "  <tbody>\n",
              "    <tr>\n",
              "      <th>0</th>\n",
              "      <td>1</td>\n",
              "      <td>67.0</td>\n",
              "      <td>0</td>\n",
              "      <td>1</td>\n",
              "      <td>1</td>\n",
              "      <td>Private</td>\n",
              "      <td>1</td>\n",
              "      <td>36.6</td>\n",
              "      <td>formerly smoked</td>\n",
              "    </tr>\n",
              "    <tr>\n",
              "      <th>2</th>\n",
              "      <td>1</td>\n",
              "      <td>80.0</td>\n",
              "      <td>0</td>\n",
              "      <td>1</td>\n",
              "      <td>1</td>\n",
              "      <td>Private</td>\n",
              "      <td>0</td>\n",
              "      <td>32.5</td>\n",
              "      <td>never smoked</td>\n",
              "    </tr>\n",
              "    <tr>\n",
              "      <th>3</th>\n",
              "      <td>0</td>\n",
              "      <td>49.0</td>\n",
              "      <td>0</td>\n",
              "      <td>0</td>\n",
              "      <td>1</td>\n",
              "      <td>Private</td>\n",
              "      <td>1</td>\n",
              "      <td>34.4</td>\n",
              "      <td>smokes</td>\n",
              "    </tr>\n",
              "    <tr>\n",
              "      <th>4</th>\n",
              "      <td>0</td>\n",
              "      <td>79.0</td>\n",
              "      <td>1</td>\n",
              "      <td>0</td>\n",
              "      <td>1</td>\n",
              "      <td>Self-employed</td>\n",
              "      <td>0</td>\n",
              "      <td>24.0</td>\n",
              "      <td>never smoked</td>\n",
              "    </tr>\n",
              "    <tr>\n",
              "      <th>5</th>\n",
              "      <td>1</td>\n",
              "      <td>81.0</td>\n",
              "      <td>0</td>\n",
              "      <td>0</td>\n",
              "      <td>1</td>\n",
              "      <td>Private</td>\n",
              "      <td>1</td>\n",
              "      <td>29.0</td>\n",
              "      <td>formerly smoked</td>\n",
              "    </tr>\n",
              "  </tbody>\n",
              "</table>\n",
              "</div>"
            ],
            "text/plain": [
              "   gender   age  hypertension  ...  Residence_type   bmi   smoking_status\n",
              "0       1  67.0             0  ...               1  36.6  formerly smoked\n",
              "2       1  80.0             0  ...               0  32.5     never smoked\n",
              "3       0  49.0             0  ...               1  34.4           smokes\n",
              "4       0  79.0             1  ...               0  24.0     never smoked\n",
              "5       1  81.0             0  ...               1  29.0  formerly smoked\n",
              "\n",
              "[5 rows x 9 columns]"
            ]
          },
          "metadata": {
            "tags": []
          },
          "execution_count": 863
        }
      ]
    },
    {
      "cell_type": "markdown",
      "metadata": {
        "id": "p8EMwRf3wbFG"
      },
      "source": [
        "###OneHot Encoding"
      ]
    },
    {
      "cell_type": "code",
      "metadata": {
        "colab": {
          "base_uri": "https://localhost:8080/"
        },
        "id": "_zaTQP_MwbFG",
        "outputId": "91a31748-2822-4e77-8149-11701a18c6c2"
      },
      "source": [
        "multiple_features"
      ],
      "execution_count": 864,
      "outputs": [
        {
          "output_type": "execute_result",
          "data": {
            "text/plain": [
              "['work_type', 'smoking_status']"
            ]
          },
          "metadata": {
            "tags": []
          },
          "execution_count": 864
        }
      ]
    },
    {
      "cell_type": "code",
      "metadata": {
        "colab": {
          "base_uri": "https://localhost:8080/",
          "height": 77
        },
        "id": "aUJqW78JxWtJ",
        "outputId": "f90b81ad-d5a9-4bfb-8d90-cba47ab79f14"
      },
      "source": [
        "X[:1]"
      ],
      "execution_count": 865,
      "outputs": [
        {
          "output_type": "execute_result",
          "data": {
            "text/html": [
              "<div>\n",
              "<style scoped>\n",
              "    .dataframe tbody tr th:only-of-type {\n",
              "        vertical-align: middle;\n",
              "    }\n",
              "\n",
              "    .dataframe tbody tr th {\n",
              "        vertical-align: top;\n",
              "    }\n",
              "\n",
              "    .dataframe thead th {\n",
              "        text-align: right;\n",
              "    }\n",
              "</style>\n",
              "<table border=\"1\" class=\"dataframe\">\n",
              "  <thead>\n",
              "    <tr style=\"text-align: right;\">\n",
              "      <th></th>\n",
              "      <th>gender</th>\n",
              "      <th>age</th>\n",
              "      <th>hypertension</th>\n",
              "      <th>heart_disease</th>\n",
              "      <th>ever_married</th>\n",
              "      <th>work_type</th>\n",
              "      <th>Residence_type</th>\n",
              "      <th>bmi</th>\n",
              "      <th>smoking_status</th>\n",
              "    </tr>\n",
              "  </thead>\n",
              "  <tbody>\n",
              "    <tr>\n",
              "      <th>0</th>\n",
              "      <td>1</td>\n",
              "      <td>67.0</td>\n",
              "      <td>0</td>\n",
              "      <td>1</td>\n",
              "      <td>1</td>\n",
              "      <td>Private</td>\n",
              "      <td>1</td>\n",
              "      <td>36.6</td>\n",
              "      <td>formerly smoked</td>\n",
              "    </tr>\n",
              "  </tbody>\n",
              "</table>\n",
              "</div>"
            ],
            "text/plain": [
              "   gender   age  hypertension  ...  Residence_type   bmi   smoking_status\n",
              "0       1  67.0             0  ...               1  36.6  formerly smoked\n",
              "\n",
              "[1 rows x 9 columns]"
            ]
          },
          "metadata": {
            "tags": []
          },
          "execution_count": 865
        }
      ]
    },
    {
      "cell_type": "code",
      "metadata": {
        "id": "f4FU16TWwbFG"
      },
      "source": [
        "work_type_onehot_encoder = ColumnTransformer(transformers=[(\"encoder\",OneHotEncoder(),[5])], remainder=\"passthrough\")\r\n",
        "X=np.array(work_type_onehot_encoder.fit_transform(X))"
      ],
      "execution_count": 866,
      "outputs": []
    },
    {
      "cell_type": "code",
      "metadata": {
        "colab": {
          "base_uri": "https://localhost:8080/"
        },
        "id": "cMpuilKQwbFG",
        "outputId": "8a362e89-eeaf-484b-ba3f-3eb2831ac031"
      },
      "source": [
        "X[:5]"
      ],
      "execution_count": 867,
      "outputs": [
        {
          "output_type": "execute_result",
          "data": {
            "text/plain": [
              "array([[0.0, 0.0, 1.0, 0.0, 0.0, 1, 67.0, 0, 1, 1, 1, 36.6,\n",
              "        'formerly smoked'],\n",
              "       [0.0, 0.0, 1.0, 0.0, 0.0, 1, 80.0, 0, 1, 1, 0, 32.5,\n",
              "        'never smoked'],\n",
              "       [0.0, 0.0, 1.0, 0.0, 0.0, 0, 49.0, 0, 0, 1, 1, 34.4, 'smokes'],\n",
              "       [0.0, 0.0, 0.0, 1.0, 0.0, 0, 79.0, 1, 0, 1, 0, 24.0,\n",
              "        'never smoked'],\n",
              "       [0.0, 0.0, 1.0, 0.0, 0.0, 1, 81.0, 0, 0, 1, 1, 29.0,\n",
              "        'formerly smoked']], dtype=object)"
            ]
          },
          "metadata": {
            "tags": []
          },
          "execution_count": 867
        }
      ]
    },
    {
      "cell_type": "code",
      "metadata": {
        "id": "I7kZK7cQwbFH"
      },
      "source": [
        "smoking_status_onehot_encoder = ColumnTransformer(transformers=[(\"encoder\",OneHotEncoder(),[12])], remainder=\"passthrough\")\r\n",
        "X=np.array(smoking_status_onehot_encoder.fit_transform(X))"
      ],
      "execution_count": 868,
      "outputs": []
    },
    {
      "cell_type": "code",
      "metadata": {
        "colab": {
          "base_uri": "https://localhost:8080/"
        },
        "id": "g4Mk9_yAwbFH",
        "outputId": "55a14d00-08f2-4a9f-95ae-50166307e8f9"
      },
      "source": [
        "X[:5]"
      ],
      "execution_count": 869,
      "outputs": [
        {
          "output_type": "execute_result",
          "data": {
            "text/plain": [
              "array([[0.0, 1.0, 0.0, 0.0, 0.0, 0.0, 1.0, 0.0, 0.0, 1, 67.0, 0, 1, 1, 1,\n",
              "        36.6],\n",
              "       [0.0, 0.0, 1.0, 0.0, 0.0, 0.0, 1.0, 0.0, 0.0, 1, 80.0, 0, 1, 1, 0,\n",
              "        32.5],\n",
              "       [0.0, 0.0, 0.0, 1.0, 0.0, 0.0, 1.0, 0.0, 0.0, 0, 49.0, 0, 0, 1, 1,\n",
              "        34.4],\n",
              "       [0.0, 0.0, 1.0, 0.0, 0.0, 0.0, 0.0, 1.0, 0.0, 0, 79.0, 1, 0, 1, 0,\n",
              "        24.0],\n",
              "       [0.0, 1.0, 0.0, 0.0, 0.0, 0.0, 1.0, 0.0, 0.0, 1, 81.0, 0, 0, 1, 1,\n",
              "        29.0]], dtype=object)"
            ]
          },
          "metadata": {
            "tags": []
          },
          "execution_count": 869
        }
      ]
    },
    {
      "cell_type": "markdown",
      "metadata": {
        "id": "wpAQKmH0wbFH"
      },
      "source": [
        "##Normalize data"
      ]
    },
    {
      "cell_type": "code",
      "metadata": {
        "id": "3N8s0adswbFH"
      },
      "source": [
        "from sklearn.preprocessing import MinMaxScaler"
      ],
      "execution_count": 870,
      "outputs": []
    },
    {
      "cell_type": "code",
      "metadata": {
        "id": "lpqPTAwGwbFH"
      },
      "source": [
        "min_max_scaler = MinMaxScaler()"
      ],
      "execution_count": 871,
      "outputs": []
    },
    {
      "cell_type": "code",
      "metadata": {
        "id": "b_UWMCD1wbFH"
      },
      "source": [
        "X = min_max_scaler.fit_transform(X)"
      ],
      "execution_count": 872,
      "outputs": []
    },
    {
      "cell_type": "code",
      "metadata": {
        "colab": {
          "base_uri": "https://localhost:8080/"
        },
        "id": "lD__IFjLwbFI",
        "outputId": "a09b0b17-ccf9-4189-8607-639116ade463"
      },
      "source": [
        "X[:5]"
      ],
      "execution_count": 874,
      "outputs": [
        {
          "output_type": "execute_result",
          "data": {
            "text/plain": [
              "array([[0.        , 1.        , 0.        , 0.        , 0.        ,\n",
              "        0.        , 1.        , 0.        , 0.        , 1.        ,\n",
              "        0.81689453, 0.        , 1.        , 1.        , 1.        ,\n",
              "        0.30126002],\n",
              "       [0.        , 0.        , 1.        , 0.        , 0.        ,\n",
              "        0.        , 1.        , 0.        , 0.        , 1.        ,\n",
              "        0.97558594, 0.        , 1.        , 1.        , 0.        ,\n",
              "        0.25429553],\n",
              "       [0.        , 0.        , 0.        , 1.        , 0.        ,\n",
              "        0.        , 1.        , 0.        , 0.        , 0.        ,\n",
              "        0.59716797, 0.        , 0.        , 1.        , 1.        ,\n",
              "        0.27605956],\n",
              "       [0.        , 0.        , 1.        , 0.        , 0.        ,\n",
              "        0.        , 0.        , 1.        , 0.        , 0.        ,\n",
              "        0.96337891, 1.        , 0.        , 1.        , 0.        ,\n",
              "        0.15693013],\n",
              "       [0.        , 1.        , 0.        , 0.        , 0.        ,\n",
              "        0.        , 1.        , 0.        , 0.        , 1.        ,\n",
              "        0.98779297, 0.        , 0.        , 1.        , 1.        ,\n",
              "        0.21420389]])"
            ]
          },
          "metadata": {
            "tags": []
          },
          "execution_count": 874
        }
      ]
    },
    {
      "cell_type": "code",
      "metadata": {
        "colab": {
          "base_uri": "https://localhost:8080/"
        },
        "id": "Myl0QyaaxyjL",
        "outputId": "c56ed5b3-071d-4679-a0ef-ae36bbc69257"
      },
      "source": [
        "print(np.count_nonzero(y==0))\r\n",
        "print(np.count_nonzero(y==1))"
      ],
      "execution_count": 875,
      "outputs": [
        {
          "output_type": "stream",
          "text": [
            "4699\n",
            "209\n"
          ],
          "name": "stdout"
        }
      ]
    },
    {
      "cell_type": "code",
      "metadata": {
        "colab": {
          "base_uri": "https://localhost:8080/"
        },
        "id": "CWIkPJoXxyjP",
        "outputId": "fb775e10-488a-45c6-dd70-ed1f7bafcbdc"
      },
      "source": [
        "sm = SMOTE(random_state=42)\r\n",
        "X_sm, y_sm = sm.fit_resample(X,y)"
      ],
      "execution_count": 876,
      "outputs": [
        {
          "output_type": "stream",
          "text": [
            "/usr/local/lib/python3.6/dist-packages/sklearn/utils/deprecation.py:87: FutureWarning: Function safe_indexing is deprecated; safe_indexing is deprecated in version 0.22 and will be removed in version 0.24.\n",
            "  warnings.warn(msg, category=FutureWarning)\n"
          ],
          "name": "stderr"
        }
      ]
    },
    {
      "cell_type": "code",
      "metadata": {
        "colab": {
          "base_uri": "https://localhost:8080/"
        },
        "id": "yeoCdyUbxyjQ",
        "outputId": "b49ae838-e906-4233-ca07-746dbdd4dc7b"
      },
      "source": [
        "X.shape,X_sm.shape,y.shape,y_sm.shape"
      ],
      "execution_count": 877,
      "outputs": [
        {
          "output_type": "execute_result",
          "data": {
            "text/plain": [
              "((4908, 16), (9398, 16), (4908,), (9398,))"
            ]
          },
          "metadata": {
            "tags": []
          },
          "execution_count": 877
        }
      ]
    },
    {
      "cell_type": "code",
      "metadata": {
        "colab": {
          "base_uri": "https://localhost:8080/"
        },
        "id": "6JdPYccRxyjQ",
        "outputId": "d482ac66-108b-4660-f448-7192e7f64d97"
      },
      "source": [
        "print(np.count_nonzero(y_sm==0))\r\n",
        "print(np.count_nonzero(y_sm==1))"
      ],
      "execution_count": 878,
      "outputs": [
        {
          "output_type": "stream",
          "text": [
            "4699\n",
            "4699\n"
          ],
          "name": "stdout"
        }
      ]
    },
    {
      "cell_type": "markdown",
      "metadata": {
        "id": "EZxEtBRNxyjR"
      },
      "source": [
        "###Split data into training and validation sets"
      ]
    },
    {
      "cell_type": "code",
      "metadata": {
        "id": "CrWvXTHfxyjR"
      },
      "source": [
        "X_train,X_test,y_train,y_test = train_test_split(X_sm,y_sm,test_size=0.2,random_state=42)"
      ],
      "execution_count": 879,
      "outputs": []
    },
    {
      "cell_type": "code",
      "metadata": {
        "colab": {
          "base_uri": "https://localhost:8080/"
        },
        "id": "fp-CrFnTxyjR",
        "outputId": "99977687-cb1a-40a1-bc0b-cf5d2c3c61c1"
      },
      "source": [
        "X_train.shape,X_test.shape,y_train.shape,y_test.shape"
      ],
      "execution_count": 880,
      "outputs": [
        {
          "output_type": "execute_result",
          "data": {
            "text/plain": [
              "((7518, 16), (1880, 16), (7518,), (1880,))"
            ]
          },
          "metadata": {
            "tags": []
          },
          "execution_count": 880
        }
      ]
    },
    {
      "cell_type": "markdown",
      "metadata": {
        "id": "G_8vCZJmxyjR"
      },
      "source": [
        "###Create ANN"
      ]
    },
    {
      "cell_type": "code",
      "metadata": {
        "id": "bqeJWHW3xyjS"
      },
      "source": [
        "#Create ANN\r\n",
        "ann_smote = Sequential([\r\n",
        "                  Dense(units=5, activation=\"relu\"),\r\n",
        "                  Dense(units=1, activation=\"sigmoid\")\r\n",
        "])"
      ],
      "execution_count": 881,
      "outputs": []
    },
    {
      "cell_type": "code",
      "metadata": {
        "id": "-H_tI5ldxyjS"
      },
      "source": [
        "#compile ANN\r\n",
        "ann_smote.compile(optimizer=\"adam\",loss=\"binary_crossentropy\",metrics=[\"accuracy\"])"
      ],
      "execution_count": 882,
      "outputs": []
    },
    {
      "cell_type": "markdown",
      "metadata": {
        "id": "KZJryhUdxyjS"
      },
      "source": [
        "###Train ANN"
      ]
    },
    {
      "cell_type": "code",
      "metadata": {
        "colab": {
          "base_uri": "https://localhost:8080/"
        },
        "id": "nBD-KCdoxyjS",
        "outputId": "f0737c93-3ad9-4186-8e74-666daf275392"
      },
      "source": [
        "ann_smote.fit(x=X_train,y=y_train,batch_size=32,epochs=100,verbose=2)"
      ],
      "execution_count": 883,
      "outputs": [
        {
          "output_type": "stream",
          "text": [
            "Epoch 1/100\n",
            "235/235 - 1s - loss: 0.6823 - accuracy: 0.5390\n",
            "Epoch 2/100\n",
            "235/235 - 0s - loss: 0.6163 - accuracy: 0.6588\n",
            "Epoch 3/100\n",
            "235/235 - 0s - loss: 0.5623 - accuracy: 0.7249\n",
            "Epoch 4/100\n",
            "235/235 - 0s - loss: 0.5366 - accuracy: 0.7453\n",
            "Epoch 5/100\n",
            "235/235 - 0s - loss: 0.5183 - accuracy: 0.7584\n",
            "Epoch 6/100\n",
            "235/235 - 0s - loss: 0.5055 - accuracy: 0.7723\n",
            "Epoch 7/100\n",
            "235/235 - 0s - loss: 0.4958 - accuracy: 0.7744\n",
            "Epoch 8/100\n",
            "235/235 - 0s - loss: 0.4878 - accuracy: 0.7765\n",
            "Epoch 9/100\n",
            "235/235 - 0s - loss: 0.4809 - accuracy: 0.7808\n",
            "Epoch 10/100\n",
            "235/235 - 0s - loss: 0.4754 - accuracy: 0.7823\n",
            "Epoch 11/100\n",
            "235/235 - 0s - loss: 0.4708 - accuracy: 0.7827\n",
            "Epoch 12/100\n",
            "235/235 - 0s - loss: 0.4671 - accuracy: 0.7841\n",
            "Epoch 13/100\n",
            "235/235 - 0s - loss: 0.4633 - accuracy: 0.7853\n",
            "Epoch 14/100\n",
            "235/235 - 0s - loss: 0.4604 - accuracy: 0.7840\n",
            "Epoch 15/100\n",
            "235/235 - 0s - loss: 0.4578 - accuracy: 0.7873\n",
            "Epoch 16/100\n",
            "235/235 - 0s - loss: 0.4556 - accuracy: 0.7880\n",
            "Epoch 17/100\n",
            "235/235 - 0s - loss: 0.4533 - accuracy: 0.7848\n",
            "Epoch 18/100\n",
            "235/235 - 0s - loss: 0.4520 - accuracy: 0.7866\n",
            "Epoch 19/100\n",
            "235/235 - 0s - loss: 0.4502 - accuracy: 0.7870\n",
            "Epoch 20/100\n",
            "235/235 - 0s - loss: 0.4485 - accuracy: 0.7870\n",
            "Epoch 21/100\n",
            "235/235 - 0s - loss: 0.4468 - accuracy: 0.7892\n",
            "Epoch 22/100\n",
            "235/235 - 0s - loss: 0.4458 - accuracy: 0.7893\n",
            "Epoch 23/100\n",
            "235/235 - 0s - loss: 0.4441 - accuracy: 0.7892\n",
            "Epoch 24/100\n",
            "235/235 - 0s - loss: 0.4432 - accuracy: 0.7913\n",
            "Epoch 25/100\n",
            "235/235 - 0s - loss: 0.4421 - accuracy: 0.7914\n",
            "Epoch 26/100\n",
            "235/235 - 0s - loss: 0.4412 - accuracy: 0.7934\n",
            "Epoch 27/100\n",
            "235/235 - 0s - loss: 0.4401 - accuracy: 0.7930\n",
            "Epoch 28/100\n",
            "235/235 - 0s - loss: 0.4399 - accuracy: 0.7920\n",
            "Epoch 29/100\n",
            "235/235 - 0s - loss: 0.4391 - accuracy: 0.7940\n",
            "Epoch 30/100\n",
            "235/235 - 0s - loss: 0.4387 - accuracy: 0.7932\n",
            "Epoch 31/100\n",
            "235/235 - 0s - loss: 0.4378 - accuracy: 0.7948\n",
            "Epoch 32/100\n",
            "235/235 - 0s - loss: 0.4376 - accuracy: 0.7950\n",
            "Epoch 33/100\n",
            "235/235 - 0s - loss: 0.4371 - accuracy: 0.7956\n",
            "Epoch 34/100\n",
            "235/235 - 0s - loss: 0.4363 - accuracy: 0.7970\n",
            "Epoch 35/100\n",
            "235/235 - 0s - loss: 0.4361 - accuracy: 0.7953\n",
            "Epoch 36/100\n",
            "235/235 - 0s - loss: 0.4362 - accuracy: 0.7969\n",
            "Epoch 37/100\n",
            "235/235 - 0s - loss: 0.4356 - accuracy: 0.7977\n",
            "Epoch 38/100\n",
            "235/235 - 0s - loss: 0.4357 - accuracy: 0.7994\n",
            "Epoch 39/100\n",
            "235/235 - 0s - loss: 0.4345 - accuracy: 0.7978\n",
            "Epoch 40/100\n",
            "235/235 - 0s - loss: 0.4346 - accuracy: 0.7997\n",
            "Epoch 41/100\n",
            "235/235 - 0s - loss: 0.4347 - accuracy: 0.7954\n",
            "Epoch 42/100\n",
            "235/235 - 0s - loss: 0.4338 - accuracy: 0.7998\n",
            "Epoch 43/100\n",
            "235/235 - 0s - loss: 0.4335 - accuracy: 0.7998\n",
            "Epoch 44/100\n",
            "235/235 - 0s - loss: 0.4337 - accuracy: 0.8001\n",
            "Epoch 45/100\n",
            "235/235 - 0s - loss: 0.4333 - accuracy: 0.8006\n",
            "Epoch 46/100\n",
            "235/235 - 0s - loss: 0.4333 - accuracy: 0.8005\n",
            "Epoch 47/100\n",
            "235/235 - 0s - loss: 0.4329 - accuracy: 0.7995\n",
            "Epoch 48/100\n",
            "235/235 - 0s - loss: 0.4328 - accuracy: 0.8003\n",
            "Epoch 49/100\n",
            "235/235 - 0s - loss: 0.4326 - accuracy: 0.8023\n",
            "Epoch 50/100\n",
            "235/235 - 0s - loss: 0.4325 - accuracy: 0.7993\n",
            "Epoch 51/100\n",
            "235/235 - 0s - loss: 0.4328 - accuracy: 0.7993\n",
            "Epoch 52/100\n",
            "235/235 - 0s - loss: 0.4324 - accuracy: 0.8007\n",
            "Epoch 53/100\n",
            "235/235 - 0s - loss: 0.4323 - accuracy: 0.8003\n",
            "Epoch 54/100\n",
            "235/235 - 0s - loss: 0.4319 - accuracy: 0.8009\n",
            "Epoch 55/100\n",
            "235/235 - 0s - loss: 0.4320 - accuracy: 0.8003\n",
            "Epoch 56/100\n",
            "235/235 - 0s - loss: 0.4318 - accuracy: 0.7994\n",
            "Epoch 57/100\n",
            "235/235 - 0s - loss: 0.4319 - accuracy: 0.7998\n",
            "Epoch 58/100\n",
            "235/235 - 0s - loss: 0.4315 - accuracy: 0.8017\n",
            "Epoch 59/100\n",
            "235/235 - 0s - loss: 0.4315 - accuracy: 0.7986\n",
            "Epoch 60/100\n",
            "235/235 - 0s - loss: 0.4312 - accuracy: 0.8025\n",
            "Epoch 61/100\n",
            "235/235 - 0s - loss: 0.4316 - accuracy: 0.8006\n",
            "Epoch 62/100\n",
            "235/235 - 0s - loss: 0.4309 - accuracy: 0.8011\n",
            "Epoch 63/100\n",
            "235/235 - 0s - loss: 0.4306 - accuracy: 0.8022\n",
            "Epoch 64/100\n",
            "235/235 - 0s - loss: 0.4307 - accuracy: 0.8029\n",
            "Epoch 65/100\n",
            "235/235 - 0s - loss: 0.4304 - accuracy: 0.8029\n",
            "Epoch 66/100\n",
            "235/235 - 0s - loss: 0.4304 - accuracy: 0.8031\n",
            "Epoch 67/100\n",
            "235/235 - 0s - loss: 0.4310 - accuracy: 0.8017\n",
            "Epoch 68/100\n",
            "235/235 - 0s - loss: 0.4303 - accuracy: 0.8014\n",
            "Epoch 69/100\n",
            "235/235 - 0s - loss: 0.4310 - accuracy: 0.8017\n",
            "Epoch 70/100\n",
            "235/235 - 0s - loss: 0.4303 - accuracy: 0.8031\n",
            "Epoch 71/100\n",
            "235/235 - 0s - loss: 0.4304 - accuracy: 0.8006\n",
            "Epoch 72/100\n",
            "235/235 - 0s - loss: 0.4298 - accuracy: 0.8026\n",
            "Epoch 73/100\n",
            "235/235 - 0s - loss: 0.4300 - accuracy: 0.8025\n",
            "Epoch 74/100\n",
            "235/235 - 0s - loss: 0.4303 - accuracy: 0.8015\n",
            "Epoch 75/100\n",
            "235/235 - 0s - loss: 0.4301 - accuracy: 0.8030\n",
            "Epoch 76/100\n",
            "235/235 - 0s - loss: 0.4296 - accuracy: 0.8017\n",
            "Epoch 77/100\n",
            "235/235 - 0s - loss: 0.4301 - accuracy: 0.8035\n",
            "Epoch 78/100\n",
            "235/235 - 0s - loss: 0.4297 - accuracy: 0.8015\n",
            "Epoch 79/100\n",
            "235/235 - 0s - loss: 0.4298 - accuracy: 0.8018\n",
            "Epoch 80/100\n",
            "235/235 - 0s - loss: 0.4296 - accuracy: 0.8021\n",
            "Epoch 81/100\n",
            "235/235 - 0s - loss: 0.4294 - accuracy: 0.8005\n",
            "Epoch 82/100\n",
            "235/235 - 0s - loss: 0.4293 - accuracy: 0.8023\n",
            "Epoch 83/100\n",
            "235/235 - 0s - loss: 0.4296 - accuracy: 0.8029\n",
            "Epoch 84/100\n",
            "235/235 - 0s - loss: 0.4289 - accuracy: 0.8018\n",
            "Epoch 85/100\n",
            "235/235 - 0s - loss: 0.4297 - accuracy: 0.8022\n",
            "Epoch 86/100\n",
            "235/235 - 0s - loss: 0.4292 - accuracy: 0.8029\n",
            "Epoch 87/100\n",
            "235/235 - 0s - loss: 0.4289 - accuracy: 0.8027\n",
            "Epoch 88/100\n",
            "235/235 - 0s - loss: 0.4289 - accuracy: 0.8033\n",
            "Epoch 89/100\n",
            "235/235 - 0s - loss: 0.4287 - accuracy: 0.8035\n",
            "Epoch 90/100\n",
            "235/235 - 0s - loss: 0.4282 - accuracy: 0.8013\n",
            "Epoch 91/100\n",
            "235/235 - 0s - loss: 0.4288 - accuracy: 0.8022\n",
            "Epoch 92/100\n",
            "235/235 - 0s - loss: 0.4286 - accuracy: 0.8022\n",
            "Epoch 93/100\n",
            "235/235 - 0s - loss: 0.4288 - accuracy: 0.8011\n",
            "Epoch 94/100\n",
            "235/235 - 0s - loss: 0.4288 - accuracy: 0.8043\n",
            "Epoch 95/100\n",
            "235/235 - 0s - loss: 0.4288 - accuracy: 0.8029\n",
            "Epoch 96/100\n",
            "235/235 - 0s - loss: 0.4285 - accuracy: 0.8039\n",
            "Epoch 97/100\n",
            "235/235 - 0s - loss: 0.4285 - accuracy: 0.8030\n",
            "Epoch 98/100\n",
            "235/235 - 0s - loss: 0.4285 - accuracy: 0.8041\n",
            "Epoch 99/100\n",
            "235/235 - 0s - loss: 0.4285 - accuracy: 0.8046\n",
            "Epoch 100/100\n",
            "235/235 - 0s - loss: 0.4284 - accuracy: 0.8035\n"
          ],
          "name": "stdout"
        },
        {
          "output_type": "execute_result",
          "data": {
            "text/plain": [
              "<tensorflow.python.keras.callbacks.History at 0x7f10f259c4a8>"
            ]
          },
          "metadata": {
            "tags": []
          },
          "execution_count": 883
        }
      ]
    },
    {
      "cell_type": "markdown",
      "metadata": {
        "id": "bKhvQUUxxyjT"
      },
      "source": [
        "###Evaluate model"
      ]
    },
    {
      "cell_type": "markdown",
      "metadata": {
        "id": "Q-miRen3xyjT"
      },
      "source": [
        "###Confusion matrix"
      ]
    },
    {
      "cell_type": "code",
      "metadata": {
        "id": "tk2UqxOkxyjT"
      },
      "source": [
        "y_preds = ann_smote.predict(X_test)"
      ],
      "execution_count": 903,
      "outputs": []
    },
    {
      "cell_type": "code",
      "metadata": {
        "colab": {
          "base_uri": "https://localhost:8080/"
        },
        "id": "nt-WJb2mxyjT",
        "outputId": "bc0f29f3-f2d1-4a98-966a-47f93a70df42"
      },
      "source": [
        "y_preds[:5]"
      ],
      "execution_count": 904,
      "outputs": [
        {
          "output_type": "execute_result",
          "data": {
            "text/plain": [
              "array([[0.6324486 ],\n",
              "       [0.0250963 ],\n",
              "       [0.20053518],\n",
              "       [0.8737625 ],\n",
              "       [0.00580668]], dtype=float32)"
            ]
          },
          "metadata": {
            "tags": []
          },
          "execution_count": 904
        }
      ]
    },
    {
      "cell_type": "code",
      "metadata": {
        "id": "PW5Qx82DxyjU"
      },
      "source": [
        "y_preds = (y_preds > 0.70)"
      ],
      "execution_count": 905,
      "outputs": []
    },
    {
      "cell_type": "code",
      "metadata": {
        "colab": {
          "base_uri": "https://localhost:8080/"
        },
        "id": "N2bXscUdxyjU",
        "outputId": "f2956404-6718-473a-abcf-6c5117654191"
      },
      "source": [
        "y_preds[:5]"
      ],
      "execution_count": 906,
      "outputs": [
        {
          "output_type": "execute_result",
          "data": {
            "text/plain": [
              "array([[False],\n",
              "       [False],\n",
              "       [False],\n",
              "       [ True],\n",
              "       [False]])"
            ]
          },
          "metadata": {
            "tags": []
          },
          "execution_count": 906
        }
      ]
    },
    {
      "cell_type": "code",
      "metadata": {
        "id": "FMXBfz7ixyjU"
      },
      "source": [
        "  from sklearn.metrics import confusion_matrix,accuracy_score"
      ],
      "execution_count": 907,
      "outputs": []
    },
    {
      "cell_type": "code",
      "metadata": {
        "colab": {
          "base_uri": "https://localhost:8080/"
        },
        "id": "8rozkh0vxyjU",
        "outputId": "d518d6d2-57be-4665-9701-de14d141f2ba"
      },
      "source": [
        "y_test"
      ],
      "execution_count": 908,
      "outputs": [
        {
          "output_type": "execute_result",
          "data": {
            "text/plain": [
              "array([0, 0, 0, ..., 0, 0, 1])"
            ]
          },
          "metadata": {
            "tags": []
          },
          "execution_count": 908
        }
      ]
    },
    {
      "cell_type": "code",
      "metadata": {
        "id": "zHF54SmPxyjV"
      },
      "source": [
        "cm = confusion_matrix(y_test,y_preds)"
      ],
      "execution_count": 909,
      "outputs": []
    },
    {
      "cell_type": "code",
      "metadata": {
        "colab": {
          "base_uri": "https://localhost:8080/"
        },
        "id": "sawqEH3CxyjV",
        "outputId": "56cd7a7f-f2b7-4112-ef8d-ce7dd5274d4f"
      },
      "source": [
        "cm"
      ],
      "execution_count": 910,
      "outputs": [
        {
          "output_type": "execute_result",
          "data": {
            "text/plain": [
              "array([[811, 111],\n",
              "       [373, 585]])"
            ]
          },
          "metadata": {
            "tags": []
          },
          "execution_count": 910
        }
      ]
    },
    {
      "cell_type": "code",
      "metadata": {
        "colab": {
          "base_uri": "https://localhost:8080/"
        },
        "id": "enhxGllcxyjV",
        "outputId": "626c3441-cdd3-408f-c224-c72197502174"
      },
      "source": [
        "accuracy_score(y_test,y_preds)"
      ],
      "execution_count": 911,
      "outputs": [
        {
          "output_type": "execute_result",
          "data": {
            "text/plain": [
              "0.7425531914893617"
            ]
          },
          "metadata": {
            "tags": []
          },
          "execution_count": 911
        }
      ]
    }
  ]
}